{
 "cells": [
  {
   "cell_type": "markdown",
   "metadata": {},
   "source": [
    "To DO: \n",
    "- Consider lemmatizing using Stanford lemmatizer\n",
    "- Understand how to get 'Satoshi Words' in an unbiased manner\n",
    "- Methodology: reduce to list of descriminiating words. \n",
    "- See if can get good chisq p-vals (perhaps chisq is biased on this set)\n"
   ]
  },
  {
   "cell_type": "code",
   "execution_count": 1,
   "metadata": {},
   "outputs": [],
   "source": [
    "%load_ext autoreload\n",
    "import os\n",
    "import re\n",
    "import pandas as pd\n",
    "from tqdm import tqdm\n",
    "\n",
    "import sys\n",
    "sys.path.append('/Users/kipnisal/Documents/Authorship/')\n",
    "\n",
    "from AuthAttLib import *\n",
    "from visualize_HC_scores import *\n",
    "\n",
    "import pickle\n",
    "\n",
    "from load_data import *\n",
    "from text_processing import html_to_text"
   ]
  },
  {
   "cell_type": "markdown",
   "metadata": {},
   "source": [
    "<H2> Preprocess Data</H2>\n",
    "<ul>\n",
    "<li> Read all articles from Data directory\n",
    "<li> Run only if added more articles\n",
    "<li> Otherwise use pre-processed version 'data_proc.csv'\n",
    "</ul>"
   ]
  },
  {
   "cell_type": "code",
   "execution_count": 2,
   "metadata": {},
   "outputs": [],
   "source": [
    "# optional: remove proper names, cardinal digits, and punctuation\n",
    "from text_processing import remove_parts_of_speach\n",
    "\n",
    "def text_proc_loc(text) :\n",
    "    return remove_parts_of_speach(text, to_remove = ['NNP', 'NNPS', 'CD', 'FW',\n",
    "                                                    #'NN', 'NNS', \n",
    "                                                    ])\n",
    "\n",
    "def lemmatize_list(list_of_words) :\n",
    "    ls = remove_parts_of_speach(\" \".join(list_of_words), to_remove=[]).split()\n",
    "    return pd.DataFrame(ls).drop_duplicates().iloc[:,0].tolist()\n",
    "\n",
    "def remove_digits(text) :\n",
    "    return re.sub(\"[0-9]\", \"\", text)\n",
    "\n",
    "def remove_punct(text) :\n",
    "    punct = [':',';','\"','(',')','-',',','.','`','\\`','%','&','?','!']\n",
    "    return re.sub(\"[0-9]\", \" \", text)\n"
   ]
  },
  {
   "cell_type": "code",
   "execution_count": 3,
   "metadata": {},
   "outputs": [
    {
     "name": "stderr",
     "output_type": "stream",
     "text": [
      "100%|██████████| 21/21 [02:02<00:00,  8.25s/it]\n"
     ]
    }
   ],
   "source": [
    "data_proc = load_data(\"../Data/\")\n",
    "    \n",
    "data_proc.text = data_proc.text.astype(str).apply(text_proc_loc).apply(cleanhtml)\n",
    "data_proc.to_csv('../Data/data_proc.csv')"
   ]
  },
  {
   "cell_type": "markdown",
   "metadata": {},
   "source": [
    "<H2>Arrange Data</H2>"
   ]
  },
  {
   "cell_type": "code",
   "execution_count": 3,
   "metadata": {},
   "outputs": [],
   "source": [
    "INCLUDE_TECHNICAL = False\n",
    "#arrange Staoshi's documents by topics\n",
    "data_proc = pd.read_csv('../Data/data_proc.csv')\n",
    "\n",
    "# aggreagte emails and technical forum posts\n",
    "satoshi_emails = data_proc[(data_proc.author == 'Satoshi') # merge all Staoshi's emails\n",
    "                         & (data_proc['type'] == 'email')].text.astype(str).agg(sum)\n",
    "satoshi_forum = data_proc[(data_proc.author == 'Satoshi') # merge all Staoshi's forum posts\n",
    "                          & (data_proc['type'] == 'technical (forum)')].text.astype(str).agg(sum)\n",
    "\n",
    "data_proc = data_proc[~((data_proc.author == 'Satoshi') # merge all Staoshi's forum posts\n",
    "                          & data_proc['type'].isin(['technical (forum)', 'email']))]\n",
    "\n",
    "if INCLUDE_TECHNICAL :\n",
    "    data_proc = data_proc.append({'doc_id' : 'Satoshi_emails',\n",
    "                    'text' : satoshi_emails,\n",
    "                    'author' : 'Satoshi',\n",
    "                    'type' : 'emails'}, ignore_index = True)\n",
    "    data_proc = data_proc.append({'doc_id' : 'Satoshi_forum',\n",
    "                    'text' : satoshi_forum,\n",
    "                    'author' : 'Satoshi',\n",
    "                    'type' : 'technical (forum)'},ignore_index = True)"
   ]
  },
  {
   "cell_type": "markdown",
   "metadata": {},
   "source": [
    "<H2>Using a preset Dictionary</H2>"
   ]
  },
  {
   "cell_type": "code",
   "execution_count": 4,
   "metadata": {},
   "outputs": [],
   "source": [
    "#load preset vocabulary\n",
    "from text_processing import *\n",
    "vocab5000_df = pd.read_csv('~/Data/5000 most common english words.csv')\n",
    "vocab5000 = lemmatize_list(vocab5000_df.Word) # to remove dublicate terms"
   ]
  },
  {
   "cell_type": "code",
   "execution_count": 5,
   "metadata": {},
   "outputs": [],
   "source": [
    "function_words1 =  ['a','as','do','has','is','no','or','than','this','when',\n",
    "  'all','at','down','have','it','not','our','that','to','which',\n",
    "  'also','be','even','her','its','now','shall','the','up','who',\n",
    "  'an','been','every','his','may','of','should','their','upon','will',\n",
    "  'and','but','for','if','more','on','so','then','was','with',\n",
    "  'any','by','from','in','must','one','some','there','were','would',\n",
    "  'are','can','had','into','my','only','such','thing','what','your', ]\n",
    "\n",
    "# two list of additional words used by Mosteller & Wallace\n",
    "additional_words1 = ['affect','city','direction','innovation','perhaps','vigor',\n",
    "                    'again','commonly','disgracing','join','rapid','violate','although',\n",
    "                    'consequently','either','language','sarne','violence','among','considerable',\n",
    "                    'enough','most','second','voice','another','contribute','nor','still',\n",
    "                    'where','because','defensive','fortune','offensive','those','whether',\n",
    "                    'between','destruction','often','throughout', 'while','both',\n",
    "                    'did','himself','pass','under','whilst']\n",
    "\n",
    "additional_words2 = ['about','choice','proper','according','common','kind','propriety','adversaries',\n",
    "                    'danger','large','provision','after','decide','decides','decided','deciding',\n",
    "                    'likely','requiisite','aid','degree','matters','matter','substance','always',\n",
    "                    'during','moreover','they','apt','expence','necessary','though',\n",
    "                    'asserted','expenses','expense','necessity','necessities','truth','truths',\n",
    "                    'before','extent','others','us','being','follows','follow','particularly',\n",
    "                    'usages','usage','better','I','principle','we','care','imagine','edit','editing']\n",
    "\n",
    "web_words = ['https', 'typekit','subset_id','cid', 'fvd','af', 'opentype','woff','tk', 'http',\n",
    "             'sinc','www','site','mso','com','af','font','src','url','proxima','color','microsoft',\n",
    "             'body', 'sans','%','ded','fb', 'php',' ', 'badb','fdb','fa', 'table', 'nav', 'linux',\n",
    "             'div', 'saved', 'unix', 'text', 'xi', 'ad', 'pp', 'a', 'px', 'db', 'var','re', 'environment',\n",
    "             'width', 'height', 'align', 'left', 'rel', 'nofollow', 'rel','viewbox', 'version', 'path', \n",
    "             'fill','radius', 'noopener', 'noreferrer', 'image', 'file', 'truncate', 'target', '_blank',\n",
    "             'nova', 'border', 'st1' ,'vwh', 'item', 'link', 'border', 'left',\n",
    "             'img', 'normal', 'edge', 'lh', 'style', 'family', 'content', 'castronova', 'buttonize','net',\n",
    "             'th','kudo','activate','figure', 'pro','tree', 'user','disk','href', 'quot', 'org', 'meta',\n",
    "             'js', 'doe', 'online', 'address', 'click', 'aria', 'line', 'title', 'css', 'nbsp', 'yes',\n",
    "            'br', 'flex', 'script', 'td', 'ninja', 'wp', 'letter', 'password', 'span','class','li','lib',\n",
    "             'le', 'face', 'format', 'weight', 'web', 'en', 'est', 'co', 'function','don']\n",
    "\n",
    "             \n",
    "names = ['hal', 'san','craig','wright','satoshi','vili','lehdonvirta',\n",
    "        'bick', 'szabo', 'kleiman', 'gavinandresen', 'gavin', 'andresen', 'adi',\n",
    "        'shamir', 'david', 'claude', 'shannon', 'elon', 'musk', 'thomas', 'meyer',\n",
    "         'einstein'\n",
    "        ]\n",
    "               \n",
    "jargon = ['bitcoin', 'homomorphic', 'pornography', 'syngress', 'fingerprint', 'chapter',\n",
    "          'forensic', 'forensic', 'cryptographic', 'address', 'ciphertext',\n",
    "          'compromised', 'contractual', 'polynomial', 'investigative', 'electronic', 'double',\n",
    "          'public', 'verify', 'trusted','generate', 'honest', 'github', 'bitcoinxt', 'computer',\n",
    "         'digital', 'control', 'work'\n",
    "         ] \n",
    "\n",
    "punct = [':',';','\"','(',')','-',',','.','`','\\`','%','&','?','!']\n",
    "\n",
    "function_words = lemmatize_list(function_words1 + additional_words1 + additional_words2)\n",
    "\n",
    "Satoshi_function_words = ['or', 'this', 'it', 'to', 'the', 'up', 'his', 'may', 'of', 'and',\n",
    "        'if', 'by', 'in', 'one', 'were', 'would', 'enough', 'still',\n",
    "        'while', 'himself', 'after', 'they', 'before', 'care', 'work']\n",
    "\n",
    "Satoshi_words = ['to', 'and', 'in', 'it', 'or', 'by', 'you', 'each', 'new', 'need',\n",
    "        'he', 'them', 'need to', 'without', 'the ha', 'after', 'long',\n",
    "        'still', 'work', 'next', 'get', 'in it', 'to make', 'it to',\n",
    "        'back', 'previous', 'until', 'the next', 'enough', 'change',\n",
    "        'added', 'working', 'the previous', 'control', 'ever', 'to get',\n",
    "        'accepted', 'accept', 'page', 'receive', 'containing', 'they were']"
   ]
  },
  {
   "cell_type": "code",
   "execution_count": 6,
   "metadata": {},
   "outputs": [
    {
     "name": "stdout",
     "output_type": "stream",
     "text": [
      "\t Creating author-model for Dan Boneh using 166 features...\n",
      "\t\tfound 4 documents and 5819 relevant tokens.\n",
      "\t Creating author-model for Fiction Writers using 166 features...\n",
      "\t\tfound 21 documents and 2531 relevant tokens.\n",
      "\t Creating author-model for Stellar using 166 features...\n",
      "\t\tfound 4 documents and 15513 relevant tokens.\n",
      "\t Creating author-model for Wright-Kleiman using 166 features...\n",
      "\t\tfound 1 documents and 2416 relevant tokens.\n",
      "\t Creating author-model for Grover using 166 features...\n",
      "\t\tfound 5 documents and 1323 relevant tokens.\n",
      "\t Creating author-model for Hal Finney using 166 features...\n",
      "\t\tfound 13 documents and 4026 relevant tokens.\n",
      "\t Creating author-model for Vili Lehdonvirta using 166 features...\n",
      "\t\tfound 8 documents and 41512 relevant tokens.\n",
      "\t Creating author-model for Crypto Collection using 166 features...\n",
      "\t\tfound 3 documents and 10085 relevant tokens.\n",
      "\t Creating author-model for Satoshi using 166 features...\n",
      "\t\tfound 1 documents and 1423 relevant tokens.\n",
      "\t Creating author-model for Elon Musk using 166 features...\n",
      "\t\tfound 3 documents and 5845 relevant tokens.\n",
      "\t Creating author-model for Michael Clear using 166 features...\n",
      "\t\tfound 6 documents and 14481 relevant tokens.\n",
      "\t Creating author-model for Gavin Andresen using 166 features...\n",
      "\t\tfound 22 documents and 3924 relevant tokens.\n",
      "\t Creating author-model for Nick Szabo using 166 features...\n",
      "\t\tfound 28 documents and 38542 relevant tokens.\n",
      "\t Creating author-model for Claude Shannon using 166 features...\n",
      "\t\tfound 2 documents and 20276 relevant tokens.\n",
      "\t Creating author-model for Adi Shamir using 166 features...\n",
      "\t\tfound 4 documents and 7068 relevant tokens.\n",
      "\t Creating author-model for Craig Wright using 166 features...\n",
      "\t\tfound 25 documents and 99807 relevant tokens.\n",
      "\t Creating author-model for David Kleiman using 166 features...\n"
     ]
    },
    {
     "name": "stderr",
     "output_type": "stream",
     "text": [
      "\r",
      "  0%|          | 0/18 [00:00<?, ?it/s]"
     ]
    },
    {
     "name": "stdout",
     "output_type": "stream",
     "text": [
      "\t\tfound 1 documents and 100792 relevant tokens.\n",
      "\t Creating author-model for Albert Einstein using 166 features...\n",
      "\t\tfound 4 documents and 23027 relevant tokens.\n"
     ]
    },
    {
     "name": "stderr",
     "output_type": "stream",
     "text": [
      "/Users/kipnisal/Documents/Authorship/utils.py:34: RuntimeWarning: divide by zero encountered in log\n",
      "  return chisq - dof, np.log(pval)\n",
      "100%|██████████| 18/18 [00:12<00:00,  1.13s/it]\n",
      "/usr/local/lib/python3.7/site-packages/pandas/core/indexing.py:543: SettingWithCopyWarning: \n",
      "A value is trying to be set on a copy of a slice from a DataFrame.\n",
      "Try using .loc[row_indexer,col_indexer] = value instead\n",
      "\n",
      "See the caveats in the documentation: http://pandas.pydata.org/pandas-docs/stable/indexing.html#indexing-view-versus-copy\n",
      "  self.obj[item] = s\n"
     ]
    }
   ],
   "source": [
    "#train model\n",
    "\n",
    "ds = data_proc\n",
    "ds = ds[~ds['type'].isin(['technical (forum)','email'])]\n",
    "#ds = ds[~((ds.author == 'Satoshi') & (ds.type.isin(['emails', 'technical (forum)'])))]\n",
    "ds = ds.filter(['doc_id','text','author','type'])\n",
    "\n",
    "ds = ds.dropna()\n",
    "\n",
    "VOCAB_SIZE = 1500\n",
    "NG_RANGE = (1,3)\n",
    "\n",
    "model = AuthorshipAttributionMulti(ds,\n",
    "                               vocab = function_words,\n",
    "                            #  vocab_size = VOCAB_SIZE,\n",
    "                              ngram_range = NG_RANGE,\n",
    "                                 #  words_to_ignore=Satoshi_function_words,\n",
    "                            words_to_ignore = punct + web_words + names + punct + jargon,\n",
    "                              stbl = True,\n",
    "                                  flat=True)\n",
    "vocab_size = len(model._vocab)\n",
    "#desc = \"external_data\"\n",
    "\n",
    "# get results wrt Satoshi:\n",
    "df0 = model.internal_stats_corpus()\n",
    "df_satoshi = df0[(df0.author == 'Satoshi') | (df0.wrt_author == 'Satoshi')]\n",
    "df_satoshi.loc[df_satoshi.author == 'Satoshi', 'author'] = df_satoshi.loc[df_satoshi.author == 'Satoshi','wrt_author']\n",
    "df_satoshi.loc[:,'wrt_author'] = 'Satoshi'"
   ]
  },
  {
   "cell_type": "code",
   "execution_count": 7,
   "metadata": {},
   "outputs": [],
   "source": [
    "description = \"w{}_most_common_ng{}_remove_NN_web_remove_Satoshi_words\".format(len(model._vocab),NG_RANGE)\n",
    "description = \"function_words\"\n",
    "pickle.dump(model,open(\"multi_{}.pkl\".format(description), \"wb\" ))"
   ]
  },
  {
   "cell_type": "code",
   "execution_count": 8,
   "metadata": {},
   "outputs": [
    {
     "name": "stderr",
     "output_type": "stream",
     "text": [
      "100%|██████████| 18/18 [00:12<00:00,  1.14s/it]\n"
     ]
    },
    {
     "data": {
      "text/html": [
       "<div>\n",
       "<style scoped>\n",
       "    .dataframe tbody tr th:only-of-type {\n",
       "        vertical-align: middle;\n",
       "    }\n",
       "\n",
       "    .dataframe tbody tr th {\n",
       "        vertical-align: top;\n",
       "    }\n",
       "\n",
       "    .dataframe thead th {\n",
       "        text-align: right;\n",
       "    }\n",
       "</style>\n",
       "<table border=\"1\" class=\"dataframe\">\n",
       "  <thead>\n",
       "    <tr style=\"text-align: right;\">\n",
       "      <th></th>\n",
       "      <th>HC</th>\n",
       "      <th>HC_rank</th>\n",
       "      <th>author</th>\n",
       "      <th>chisq</th>\n",
       "      <th>chisq_pval</th>\n",
       "      <th>cosine</th>\n",
       "      <th>feat</th>\n",
       "      <th>no_docs (author)</th>\n",
       "      <th>no_docs (wrt_author)</th>\n",
       "      <th>no_tokens (author)</th>\n",
       "      <th>wrt_author</th>\n",
       "    </tr>\n",
       "  </thead>\n",
       "  <tbody>\n",
       "    <tr>\n",
       "      <th>50</th>\n",
       "      <td>3.781081</td>\n",
       "      <td>0.5</td>\n",
       "      <td>Stellar</td>\n",
       "      <td>236.181015</td>\n",
       "      <td>-53.804102</td>\n",
       "      <td>0.030354</td>\n",
       "      <td>[a, or, to, which, be, the, his, may, will, an...</td>\n",
       "      <td>1.0</td>\n",
       "      <td>1.0</td>\n",
       "      <td>15513.0</td>\n",
       "      <td>Satoshi</td>\n",
       "    </tr>\n",
       "    <tr>\n",
       "      <th>33</th>\n",
       "      <td>4.179257</td>\n",
       "      <td>0.5</td>\n",
       "      <td>Hal Finney</td>\n",
       "      <td>213.891453</td>\n",
       "      <td>-48.911341</td>\n",
       "      <td>0.041994</td>\n",
       "      <td>[a, this, have, to, which, even, the, an, of, ...</td>\n",
       "      <td>1.0</td>\n",
       "      <td>1.0</td>\n",
       "      <td>1423.0</td>\n",
       "      <td>Satoshi</td>\n",
       "    </tr>\n",
       "    <tr>\n",
       "      <th>145</th>\n",
       "      <td>4.596800</td>\n",
       "      <td>0.5</td>\n",
       "      <td>Albert Einstein</td>\n",
       "      <td>504.255789</td>\n",
       "      <td>-150.362358</td>\n",
       "      <td>0.051742</td>\n",
       "      <td>[a, than, this, to, which, be, up, an, of, wil...</td>\n",
       "      <td>1.0</td>\n",
       "      <td>1.0</td>\n",
       "      <td>1423.0</td>\n",
       "      <td>Satoshi</td>\n",
       "    </tr>\n",
       "    <tr>\n",
       "      <th>120</th>\n",
       "      <td>4.626756</td>\n",
       "      <td>0.5</td>\n",
       "      <td>Craig Wright</td>\n",
       "      <td>586.700699</td>\n",
       "      <td>-176.063558</td>\n",
       "      <td>0.023476</td>\n",
       "      <td>[a, or, this, it, that, up, every, his, may, a...</td>\n",
       "      <td>1.0</td>\n",
       "      <td>1.0</td>\n",
       "      <td>1423.0</td>\n",
       "      <td>Satoshi</td>\n",
       "    </tr>\n",
       "    <tr>\n",
       "      <th>51</th>\n",
       "      <td>4.645401</td>\n",
       "      <td>0.5</td>\n",
       "      <td>Wright-Kleiman</td>\n",
       "      <td>201.837960</td>\n",
       "      <td>-48.189214</td>\n",
       "      <td>0.034298</td>\n",
       "      <td>[is, this, it, our, that, to, be, even, been, ...</td>\n",
       "      <td>1.0</td>\n",
       "      <td>1.0</td>\n",
       "      <td>2416.0</td>\n",
       "      <td>Satoshi</td>\n",
       "    </tr>\n",
       "    <tr>\n",
       "      <th>73</th>\n",
       "      <td>4.763261</td>\n",
       "      <td>0.5</td>\n",
       "      <td>Gavin Andresen</td>\n",
       "      <td>194.971409</td>\n",
       "      <td>-45.107897</td>\n",
       "      <td>0.036400</td>\n",
       "      <td>[a, ha, is, or, have, our, that, the, an, his,...</td>\n",
       "      <td>1.0</td>\n",
       "      <td>1.0</td>\n",
       "      <td>1423.0</td>\n",
       "      <td>Satoshi</td>\n",
       "    </tr>\n",
       "    <tr>\n",
       "      <th>132</th>\n",
       "      <td>4.792523</td>\n",
       "      <td>0.5</td>\n",
       "      <td>David Kleiman</td>\n",
       "      <td>929.473609</td>\n",
       "      <td>-321.064187</td>\n",
       "      <td>0.029807</td>\n",
       "      <td>[or, than, this, it, not, our, also, the, ever...</td>\n",
       "      <td>1.0</td>\n",
       "      <td>1.0</td>\n",
       "      <td>1423.0</td>\n",
       "      <td>Satoshi</td>\n",
       "    </tr>\n",
       "    <tr>\n",
       "      <th>79</th>\n",
       "      <td>4.939713</td>\n",
       "      <td>0.5</td>\n",
       "      <td>Nick Szabo</td>\n",
       "      <td>408.363250</td>\n",
       "      <td>-111.492680</td>\n",
       "      <td>0.028669</td>\n",
       "      <td>[a, or, this, all, it, to, be, the, an, every,...</td>\n",
       "      <td>1.0</td>\n",
       "      <td>1.0</td>\n",
       "      <td>1423.0</td>\n",
       "      <td>Satoshi</td>\n",
       "    </tr>\n",
       "    <tr>\n",
       "      <th>52</th>\n",
       "      <td>5.136477</td>\n",
       "      <td>0.5</td>\n",
       "      <td>Vili Lehdonvirta</td>\n",
       "      <td>754.530793</td>\n",
       "      <td>-249.657167</td>\n",
       "      <td>0.051163</td>\n",
       "      <td>[or, this, all, it, to, also, be, the, up, eve...</td>\n",
       "      <td>1.0</td>\n",
       "      <td>1.0</td>\n",
       "      <td>41512.0</td>\n",
       "      <td>Satoshi</td>\n",
       "    </tr>\n",
       "    <tr>\n",
       "      <th>59</th>\n",
       "      <td>5.165930</td>\n",
       "      <td>0.5</td>\n",
       "      <td>Elon Musk</td>\n",
       "      <td>292.540353</td>\n",
       "      <td>-73.479581</td>\n",
       "      <td>0.026412</td>\n",
       "      <td>[a, is, or, this, at, it, not, an, his, and, b...</td>\n",
       "      <td>1.0</td>\n",
       "      <td>1.0</td>\n",
       "      <td>1423.0</td>\n",
       "      <td>Satoshi</td>\n",
       "    </tr>\n",
       "    <tr>\n",
       "      <th>6</th>\n",
       "      <td>5.216111</td>\n",
       "      <td>0.5</td>\n",
       "      <td>Dan Boneh</td>\n",
       "      <td>222.129332</td>\n",
       "      <td>-52.627689</td>\n",
       "      <td>0.026987</td>\n",
       "      <td>[is, this, it, our, that, to, up, every, his, ...</td>\n",
       "      <td>1.0</td>\n",
       "      <td>1.0</td>\n",
       "      <td>1423.0</td>\n",
       "      <td>Satoshi</td>\n",
       "    </tr>\n",
       "    <tr>\n",
       "      <th>88</th>\n",
       "      <td>5.448709</td>\n",
       "      <td>0.5</td>\n",
       "      <td>Claude Shannon</td>\n",
       "      <td>449.022081</td>\n",
       "      <td>-134.647627</td>\n",
       "      <td>0.040782</td>\n",
       "      <td>[do, is, this, it, to, which, up, who, an, eve...</td>\n",
       "      <td>1.0</td>\n",
       "      <td>1.0</td>\n",
       "      <td>1423.0</td>\n",
       "      <td>Satoshi</td>\n",
       "    </tr>\n",
       "    <tr>\n",
       "      <th>27</th>\n",
       "      <td>5.954991</td>\n",
       "      <td>0.5</td>\n",
       "      <td>Grover</td>\n",
       "      <td>211.632589</td>\n",
       "      <td>-52.390862</td>\n",
       "      <td>0.080718</td>\n",
       "      <td>[a, or, down, have, even, now, the, of, and, b...</td>\n",
       "      <td>1.0</td>\n",
       "      <td>1.0</td>\n",
       "      <td>1423.0</td>\n",
       "      <td>Satoshi</td>\n",
       "    </tr>\n",
       "    <tr>\n",
       "      <th>103</th>\n",
       "      <td>5.982492</td>\n",
       "      <td>0.5</td>\n",
       "      <td>Adi Shamir</td>\n",
       "      <td>360.801820</td>\n",
       "      <td>-103.519400</td>\n",
       "      <td>0.056084</td>\n",
       "      <td>[a, ha, is, this, it, not, that, to, which, be...</td>\n",
       "      <td>1.0</td>\n",
       "      <td>1.0</td>\n",
       "      <td>1423.0</td>\n",
       "      <td>Satoshi</td>\n",
       "    </tr>\n",
       "    <tr>\n",
       "      <th>66</th>\n",
       "      <td>6.191348</td>\n",
       "      <td>0.5</td>\n",
       "      <td>Michael Clear</td>\n",
       "      <td>515.410662</td>\n",
       "      <td>-158.758565</td>\n",
       "      <td>0.046205</td>\n",
       "      <td>[a, is, or, than, this, it, not, our, that, to...</td>\n",
       "      <td>1.0</td>\n",
       "      <td>1.0</td>\n",
       "      <td>1423.0</td>\n",
       "      <td>Satoshi</td>\n",
       "    </tr>\n",
       "    <tr>\n",
       "      <th>17</th>\n",
       "      <td>6.782015</td>\n",
       "      <td>0.5</td>\n",
       "      <td>Fiction Writers</td>\n",
       "      <td>540.935786</td>\n",
       "      <td>-177.682674</td>\n",
       "      <td>0.126723</td>\n",
       "      <td>[do, ha, is, or, when, at, down, to, which, be...</td>\n",
       "      <td>1.0</td>\n",
       "      <td>1.0</td>\n",
       "      <td>1423.0</td>\n",
       "      <td>Satoshi</td>\n",
       "    </tr>\n",
       "    <tr>\n",
       "      <th>44</th>\n",
       "      <td>6.974360</td>\n",
       "      <td>0.5</td>\n",
       "      <td>Crypto Collection</td>\n",
       "      <td>632.319693</td>\n",
       "      <td>-213.199552</td>\n",
       "      <td>0.084891</td>\n",
       "      <td>[do, is, than, this, have, it, not, that, to, ...</td>\n",
       "      <td>1.0</td>\n",
       "      <td>1.0</td>\n",
       "      <td>1423.0</td>\n",
       "      <td>Satoshi</td>\n",
       "    </tr>\n",
       "  </tbody>\n",
       "</table>\n",
       "</div>"
      ],
      "text/plain": [
       "           HC  HC_rank             author       chisq  chisq_pval    cosine  \\\n",
       "50   3.781081      0.5            Stellar  236.181015  -53.804102  0.030354   \n",
       "33   4.179257      0.5         Hal Finney  213.891453  -48.911341  0.041994   \n",
       "145  4.596800      0.5    Albert Einstein  504.255789 -150.362358  0.051742   \n",
       "120  4.626756      0.5       Craig Wright  586.700699 -176.063558  0.023476   \n",
       "51   4.645401      0.5     Wright-Kleiman  201.837960  -48.189214  0.034298   \n",
       "73   4.763261      0.5     Gavin Andresen  194.971409  -45.107897  0.036400   \n",
       "132  4.792523      0.5      David Kleiman  929.473609 -321.064187  0.029807   \n",
       "79   4.939713      0.5         Nick Szabo  408.363250 -111.492680  0.028669   \n",
       "52   5.136477      0.5   Vili Lehdonvirta  754.530793 -249.657167  0.051163   \n",
       "59   5.165930      0.5          Elon Musk  292.540353  -73.479581  0.026412   \n",
       "6    5.216111      0.5          Dan Boneh  222.129332  -52.627689  0.026987   \n",
       "88   5.448709      0.5     Claude Shannon  449.022081 -134.647627  0.040782   \n",
       "27   5.954991      0.5             Grover  211.632589  -52.390862  0.080718   \n",
       "103  5.982492      0.5         Adi Shamir  360.801820 -103.519400  0.056084   \n",
       "66   6.191348      0.5      Michael Clear  515.410662 -158.758565  0.046205   \n",
       "17   6.782015      0.5    Fiction Writers  540.935786 -177.682674  0.126723   \n",
       "44   6.974360      0.5  Crypto Collection  632.319693 -213.199552  0.084891   \n",
       "\n",
       "                                                  feat  no_docs (author)  \\\n",
       "50   [a, or, to, which, be, the, his, may, will, an...               1.0   \n",
       "33   [a, this, have, to, which, even, the, an, of, ...               1.0   \n",
       "145  [a, than, this, to, which, be, up, an, of, wil...               1.0   \n",
       "120  [a, or, this, it, that, up, every, his, may, a...               1.0   \n",
       "51   [is, this, it, our, that, to, be, even, been, ...               1.0   \n",
       "73   [a, ha, is, or, have, our, that, the, an, his,...               1.0   \n",
       "132  [or, than, this, it, not, our, also, the, ever...               1.0   \n",
       "79   [a, or, this, all, it, to, be, the, an, every,...               1.0   \n",
       "52   [or, this, all, it, to, also, be, the, up, eve...               1.0   \n",
       "59   [a, is, or, this, at, it, not, an, his, and, b...               1.0   \n",
       "6    [is, this, it, our, that, to, up, every, his, ...               1.0   \n",
       "88   [do, is, this, it, to, which, up, who, an, eve...               1.0   \n",
       "27   [a, or, down, have, even, now, the, of, and, b...               1.0   \n",
       "103  [a, ha, is, this, it, not, that, to, which, be...               1.0   \n",
       "66   [a, is, or, than, this, it, not, our, that, to...               1.0   \n",
       "17   [do, ha, is, or, when, at, down, to, which, be...               1.0   \n",
       "44   [do, is, than, this, have, it, not, that, to, ...               1.0   \n",
       "\n",
       "     no_docs (wrt_author)  no_tokens (author) wrt_author  \n",
       "50                    1.0             15513.0    Satoshi  \n",
       "33                    1.0              1423.0    Satoshi  \n",
       "145                   1.0              1423.0    Satoshi  \n",
       "120                   1.0              1423.0    Satoshi  \n",
       "51                    1.0              2416.0    Satoshi  \n",
       "73                    1.0              1423.0    Satoshi  \n",
       "132                   1.0              1423.0    Satoshi  \n",
       "79                    1.0              1423.0    Satoshi  \n",
       "52                    1.0             41512.0    Satoshi  \n",
       "59                    1.0              1423.0    Satoshi  \n",
       "6                     1.0              1423.0    Satoshi  \n",
       "88                    1.0              1423.0    Satoshi  \n",
       "27                    1.0              1423.0    Satoshi  \n",
       "103                   1.0              1423.0    Satoshi  \n",
       "66                    1.0              1423.0    Satoshi  \n",
       "17                    1.0              1423.0    Satoshi  \n",
       "44                    1.0              1423.0    Satoshi  "
      ]
     },
     "execution_count": 8,
     "metadata": {},
     "output_type": "execute_result"
    }
   ],
   "source": [
    "df0 = model.internal_stats_corpus()\n",
    "df_satoshi = df0[(df0.author == 'Satoshi') | (df0.wrt_author == 'Satoshi')]\n",
    "df_satoshi.loc[df_satoshi.author == 'Satoshi', 'author'] =\\\n",
    "                df_satoshi.loc[df_satoshi.author == 'Satoshi','wrt_author']\n",
    "df_satoshi.loc[:,'wrt_author'] = 'Satoshi'\n",
    "\n",
    "df_satoshi.loc[df_satoshi.HC.sort_values().index,:]"
   ]
  },
  {
   "cell_type": "code",
   "execution_count": 9,
   "metadata": {},
   "outputs": [
    {
     "data": {
      "image/png": "[encoded data removed]",
      "text/plain": [
       "<Figure size 640x480 with 1 Axes>"
      ]
     },
     "metadata": {},
     "output_type": "display_data"
    },
    {
     "name": "stdout",
     "output_type": "stream",
     "text": [
      "<ggplot: (302467413)>\n"
     ]
    },
    {
     "name": "stderr",
     "output_type": "stream",
     "text": [
      "/usr/local/lib/python3.7/site-packages/plotnine/ggplot.py:706: UserWarning: Saving 13 x 4 in image.\n",
      "  from_inches(height, units), units))\n",
      "/usr/local/lib/python3.7/site-packages/plotnine/ggplot.py:707: UserWarning: Filename: /Users/kipnisal/Dropbox/Apps/Overleaf/Who is Satoshi/Figs/HC_wrt_satoshi_function_words.png\n",
      "  warn('Filename: {}'.format(filename))\n"
     ]
    }
   ],
   "source": [
    "from plotnine import *\n",
    "import matplotlib.colors as mcolors\n",
    "\n",
    "path_to_figs = \"/Users/kipnisal/Dropbox/Apps/Overleaf/Who is Satoshi/Figs/\"\n",
    "\n",
    "ix = df_satoshi.reset_index().sort_values('HC').index.tolist()\n",
    "\n",
    "p = (ggplot(aes(x = 'author', y = 'HC', fill = 'author'), data = df_satoshi) \n",
    "     + geom_col(show_legend = False) + theme(axis_text_x=element_text(rotation=90, hjust=1)) \n",
    "  #  + scale_x_discrete(limits=ix)\n",
    "     + coord_flip()\n",
    "    )\n",
    "print(p)\n",
    "p.save(path_to_figs + \"HC_wrt_satoshi_{}.png\".format(description),height = 4, width = 13)\n"
   ]
  },
  {
   "cell_type": "markdown",
   "metadata": {},
   "source": [
    "<H3>Load all data (including hidden files)</H3>"
   ]
  },
  {
   "cell_type": "code",
   "execution_count": null,
   "metadata": {},
   "outputs": [],
   "source": [
    "# get most freuqnect words from all data\n",
    "all_data = load_data(\"../Data/\", ignore_prefix = '')\n",
    "all_data_proc = all_data.copy()\n",
    "\n",
    "all_data_proc.loc[:,'text'] = all_data.text.astype(str).apply(text_proc_loc).apply(cleanhtml)\n",
    "\n",
    "vocab_all = n_most_frequent_words(all_data.text, n = 3000, ngram_range=(2,3),\n",
    "        words_to_ignore=punct + web_words + jargon\n",
    "                      )"
   ]
  },
  {
   "cell_type": "markdown",
   "metadata": {},
   "source": [
    "<H2>Model with some features removed</H2>"
   ]
  },
  {
   "cell_type": "code",
   "execution_count": 10,
   "metadata": {},
   "outputs": [
    {
     "name": "stderr",
     "output_type": "stream",
     "text": [
      "100%|██████████| 18/18 [00:03<00:00,  4.21it/s]\n"
     ]
    }
   ],
   "source": [
    "btc_paper = data_proc[data_proc.doc_id == 'Bitcoin_whitepaper.txt']\n",
    "#df_feat = model.get_discriminating_features(btc_paper.text.values[0])\n",
    "df_feat = model.test_against(btc_paper.text.values[0])"
   ]
  },
  {
   "cell_type": "code",
   "execution_count": 11,
   "metadata": {},
   "outputs": [
    {
     "data": {
      "text/plain": [
       "5               or\n",
       "7             this\n",
       "13              it\n",
       "17              to\n",
       "26              up\n",
       "31             his\n",
       "32             may\n",
       "38             and\n",
       "49              by\n",
       "51              in\n",
       "53             one\n",
       "56            were\n",
       "88          enough\n",
       "95           still\n",
       "107          while\n",
       "110        himself\n",
       "125          after\n",
       "165    probability\n",
       "Name: feat, dtype: object"
      ]
     },
     "execution_count": 11,
     "metadata": {},
     "output_type": "execute_result"
    }
   ],
   "source": [
    "dfeat = df_feat[~df_feat.z.isna()].feat\n",
    "dfeat"
   ]
  },
  {
   "cell_type": "code",
   "execution_count": 32,
   "metadata": {},
   "outputs": [
    {
     "name": "stdout",
     "output_type": "stream",
     "text": [
      "removed 25 features\n"
     ]
    }
   ],
   "source": [
    "new_vocab = [w for w in model._vocab if w not in dfeat.tolist()]\n",
    "print(\"removed {} features\".format(len(model._vocab) - len(new_vocab)))"
   ]
  },
  {
   "cell_type": "code",
   "execution_count": 33,
   "metadata": {},
   "outputs": [
    {
     "name": "stdout",
     "output_type": "stream",
     "text": [
      "\t Creating author-model for Dan Boneh using 142 features...\n",
      "\t\tfound 4 documents and 2972 relevant tokens.\n",
      "\t Creating author-model for Stellar Team using 142 features...\n",
      "\t\tfound 1 documents and 2287 relevant tokens.\n",
      "\t Creating author-model for Fiction Writers using 142 features...\n",
      "\t\tfound 21 documents and 1295 relevant tokens.\n",
      "\t Creating author-model for Wright-Kleiman using 142 features...\n",
      "\t\tfound 1 documents and 1285 relevant tokens.\n",
      "\t Creating author-model for Grover using 142 features...\n",
      "\t\tfound 5 documents and 660 relevant tokens.\n",
      "\t Creating author-model for Hal Finney using 142 features...\n",
      "\t\tfound 13 documents and 1945 relevant tokens.\n",
      "\t Creating author-model for Albert Eistein using 142 features...\n",
      "\t\tfound 1 documents and 7457 relevant tokens.\n",
      "\t Creating author-model for Vili Lehdonvirta using 142 features...\n",
      "\t\tfound 8 documents and 15330 relevant tokens.\n",
      "\t Creating author-model for Crypto Collection using 142 features...\n",
      "\t\tfound 3 documents and 5457 relevant tokens.\n",
      "\t Creating author-model for Satoshi using 142 features...\n",
      "\t\tfound 1 documents and 653 relevant tokens.\n",
      "\t Creating author-model for Elon Musk using 142 features...\n",
      "\t\tfound 3 documents and 2660 relevant tokens.\n",
      "\t Creating author-model for Michael Clear using 142 features...\n",
      "\t\tfound 6 documents and 9450 relevant tokens.\n",
      "\t Creating author-model for Gavin Andresen using 142 features...\n",
      "\t\tfound 22 documents and 1796 relevant tokens.\n",
      "\t Creating author-model for Nick Szabo using 142 features...\n",
      "\t\tfound 28 documents and 13032 relevant tokens.\n",
      "\t Creating author-model for Claude Shannon using 142 features...\n",
      "\t\tfound 2 documents and 9747 relevant tokens.\n",
      "\t Creating author-model for Adi Shamir using 142 features...\n",
      "\t\tfound 4 documents and 3651 relevant tokens.\n",
      "\t Creating author-model for Craig Wright using 142 features...\n",
      "\t\tfound 25 documents and 32644 relevant tokens.\n",
      "\t Creating author-model for David Kleiman using 142 features...\n"
     ]
    },
    {
     "name": "stderr",
     "output_type": "stream",
     "text": [
      "\r",
      "  0%|          | 0/18 [00:00<?, ?it/s]"
     ]
    },
    {
     "name": "stdout",
     "output_type": "stream",
     "text": [
      "\t\tfound 1 documents and 43916 relevant tokens.\n"
     ]
    },
    {
     "name": "stderr",
     "output_type": "stream",
     "text": [
      " 11%|█         | 2/18 [00:00<00:09,  1.60it/s]/Users/kipnisal/Documents/Authorship/utils.py:34: RuntimeWarning: divide by zero encountered in log\n",
      "  return chisq - dof, np.log(pval)\n",
      "100%|██████████| 18/18 [00:10<00:00,  1.12it/s]\n",
      "/usr/local/lib/python3.7/site-packages/pandas/core/indexing.py:543: SettingWithCopyWarning: \n",
      "A value is trying to be set on a copy of a slice from a DataFrame.\n",
      "Try using .loc[row_indexer,col_indexer] = value instead\n",
      "\n",
      "See the caveats in the documentation: http://pandas.pydata.org/pandas-docs/stable/indexing.html#indexing-view-versus-copy\n",
      "  self.obj[item] = s\n"
     ]
    }
   ],
   "source": [
    "#train model\n",
    "\n",
    "ds = data_proc\n",
    "ds = ds[~ds['type'].isin(['technical (forum)','email'])]\n",
    "#ds = ds[~((ds.author == 'Satoshi') & (ds.type.isin(['emails', 'technical (forum)'])))]\n",
    "ds = ds.filter(['doc_id','text','author','type'])\n",
    "\n",
    "ds = ds.dropna()\n",
    "\n",
    "VOCAB_SIZE = 1500\n",
    "NG_RANGE = (1,3)\n",
    "\n",
    "model = AuthorshipAttributionMulti(ds,\n",
    "                               vocab = new_vocab,\n",
    "                              ngram_range = NG_RANGE,\n",
    "                              stbl = True)\n",
    "vocab_size = len(model._vocab)\n",
    "#desc = \"external_data\"\n",
    "\n",
    "# get results wrt Satoshi:\n",
    "df0 = model.internal_stats_corpus()\n",
    "df_satoshi = df0[(df0.author == 'Satoshi') | (df0.wrt_author == 'Satoshi')]\n",
    "df_satoshi.loc[df_satoshi.author == 'Satoshi', 'author'] = df_satoshi.loc[df_satoshi.author == 'Satoshi','wrt_author']\n",
    "df_satoshi.loc[:,'wrt_author'] = 'Satoshi'"
   ]
  },
  {
   "cell_type": "code",
   "execution_count": 34,
   "metadata": {},
   "outputs": [
    {
     "name": "stderr",
     "output_type": "stream",
     "text": [
      "100%|██████████| 18/18 [00:10<00:00,  1.06it/s]\n"
     ]
    },
    {
     "data": {
      "text/html": [
       "<div>\n",
       "<style scoped>\n",
       "    .dataframe tbody tr th:only-of-type {\n",
       "        vertical-align: middle;\n",
       "    }\n",
       "\n",
       "    .dataframe tbody tr th {\n",
       "        vertical-align: top;\n",
       "    }\n",
       "\n",
       "    .dataframe thead th {\n",
       "        text-align: right;\n",
       "    }\n",
       "</style>\n",
       "<table border=\"1\" class=\"dataframe\">\n",
       "  <thead>\n",
       "    <tr style=\"text-align: right;\">\n",
       "      <th></th>\n",
       "      <th>HC</th>\n",
       "      <th>HC_rank</th>\n",
       "      <th>author</th>\n",
       "      <th>chisq</th>\n",
       "      <th>chisq_pval</th>\n",
       "      <th>cosine</th>\n",
       "      <th>feat</th>\n",
       "      <th>no_docs (author)</th>\n",
       "      <th>no_docs (wrt_author)</th>\n",
       "      <th>no_tokens (author)</th>\n",
       "      <th>wrt_author</th>\n",
       "    </tr>\n",
       "  </thead>\n",
       "  <tbody>\n",
       "    <tr>\n",
       "      <th>66</th>\n",
       "      <td>1.351396</td>\n",
       "      <td>0.500000</td>\n",
       "      <td>Stellar Team</td>\n",
       "      <td>37.670191</td>\n",
       "      <td>-5.324141</td>\n",
       "      <td>0.021914</td>\n",
       "      <td>[which, be, will, so, because, being]</td>\n",
       "      <td>1.0</td>\n",
       "      <td>1.0</td>\n",
       "      <td>2287.0</td>\n",
       "      <td>Satoshi</td>\n",
       "    </tr>\n",
       "    <tr>\n",
       "      <th>136</th>\n",
       "      <td>2.135500</td>\n",
       "      <td>0.423077</td>\n",
       "      <td>Craig Wright</td>\n",
       "      <td>32.541475</td>\n",
       "      <td>-3.909248</td>\n",
       "      <td>0.032933</td>\n",
       "      <td>[a, that, every, should, but, on, then, with, ...</td>\n",
       "      <td>1.0</td>\n",
       "      <td>25.0</td>\n",
       "      <td>653.0</td>\n",
       "      <td>Satoshi</td>\n",
       "    </tr>\n",
       "    <tr>\n",
       "      <th>148</th>\n",
       "      <td>2.194399</td>\n",
       "      <td>0.500000</td>\n",
       "      <td>David Kleiman</td>\n",
       "      <td>111.164759</td>\n",
       "      <td>-20.344100</td>\n",
       "      <td>0.023306</td>\n",
       "      <td>[a, than, not, our, every, but, only, your, be...</td>\n",
       "      <td>1.0</td>\n",
       "      <td>1.0</td>\n",
       "      <td>653.0</td>\n",
       "      <td>Satoshi</td>\n",
       "    </tr>\n",
       "    <tr>\n",
       "      <th>44</th>\n",
       "      <td>2.306181</td>\n",
       "      <td>0.500000</td>\n",
       "      <td>Albert Eistein</td>\n",
       "      <td>70.138027</td>\n",
       "      <td>-11.553527</td>\n",
       "      <td>0.056249</td>\n",
       "      <td>[a, than, which, be, an, will, according, we]</td>\n",
       "      <td>1.0</td>\n",
       "      <td>1.0</td>\n",
       "      <td>653.0</td>\n",
       "      <td>Satoshi</td>\n",
       "    </tr>\n",
       "    <tr>\n",
       "      <th>104</th>\n",
       "      <td>2.332277</td>\n",
       "      <td>0.000000</td>\n",
       "      <td>Claude Shannon</td>\n",
       "      <td>107.376652</td>\n",
       "      <td>-21.768546</td>\n",
       "      <td>0.044278</td>\n",
       "      <td>[do, is, not, which, who, an, every, their, bu...</td>\n",
       "      <td>1.0</td>\n",
       "      <td>2.0</td>\n",
       "      <td>653.0</td>\n",
       "      <td>Satoshi</td>\n",
       "    </tr>\n",
       "    <tr>\n",
       "      <th>68</th>\n",
       "      <td>2.407379</td>\n",
       "      <td>0.500000</td>\n",
       "      <td>Vili Lehdonvirta</td>\n",
       "      <td>181.350421</td>\n",
       "      <td>-41.093046</td>\n",
       "      <td>0.034677</td>\n",
       "      <td>[a, all, our, also, be, every, their, will, th...</td>\n",
       "      <td>8.0</td>\n",
       "      <td>1.0</td>\n",
       "      <td>15330.0</td>\n",
       "      <td>Satoshi</td>\n",
       "    </tr>\n",
       "    <tr>\n",
       "      <th>95</th>\n",
       "      <td>2.448505</td>\n",
       "      <td>0.620690</td>\n",
       "      <td>Nick Szabo</td>\n",
       "      <td>43.290915</td>\n",
       "      <td>-5.887053</td>\n",
       "      <td>0.019360</td>\n",
       "      <td>[a, all, be, an, every, will, so, wa, had, mos...</td>\n",
       "      <td>1.0</td>\n",
       "      <td>28.0</td>\n",
       "      <td>653.0</td>\n",
       "      <td>Satoshi</td>\n",
       "    </tr>\n",
       "    <tr>\n",
       "      <th>75</th>\n",
       "      <td>2.752802</td>\n",
       "      <td>0.250000</td>\n",
       "      <td>Elon Musk</td>\n",
       "      <td>84.083685</td>\n",
       "      <td>-14.880272</td>\n",
       "      <td>0.058730</td>\n",
       "      <td>[a, is, at, not, an, but, can, such, between, ...</td>\n",
       "      <td>1.0</td>\n",
       "      <td>3.0</td>\n",
       "      <td>653.0</td>\n",
       "      <td>Satoshi</td>\n",
       "    </tr>\n",
       "    <tr>\n",
       "      <th>33</th>\n",
       "      <td>3.225341</td>\n",
       "      <td>0.928571</td>\n",
       "      <td>Hal Finney</td>\n",
       "      <td>106.270911</td>\n",
       "      <td>-22.126242</td>\n",
       "      <td>0.084432</td>\n",
       "      <td>[a, do, than, have, which, even, an, on, so, a...</td>\n",
       "      <td>1.0</td>\n",
       "      <td>13.0</td>\n",
       "      <td>653.0</td>\n",
       "      <td>Satoshi</td>\n",
       "    </tr>\n",
       "    <tr>\n",
       "      <th>6</th>\n",
       "      <td>3.315155</td>\n",
       "      <td>0.400000</td>\n",
       "      <td>Dan Boneh</td>\n",
       "      <td>86.436142</td>\n",
       "      <td>-16.256504</td>\n",
       "      <td>0.042592</td>\n",
       "      <td>[a, is, than, our, that, be, should, will, but...</td>\n",
       "      <td>1.0</td>\n",
       "      <td>4.0</td>\n",
       "      <td>653.0</td>\n",
       "      <td>Satoshi</td>\n",
       "    </tr>\n",
       "    <tr>\n",
       "      <th>67</th>\n",
       "      <td>3.521571</td>\n",
       "      <td>0.500000</td>\n",
       "      <td>Wright-Kleiman</td>\n",
       "      <td>71.716873</td>\n",
       "      <td>-13.435544</td>\n",
       "      <td>0.038895</td>\n",
       "      <td>[is, our, that, be, even, been, should, their,...</td>\n",
       "      <td>1.0</td>\n",
       "      <td>1.0</td>\n",
       "      <td>1285.0</td>\n",
       "      <td>Satoshi</td>\n",
       "    </tr>\n",
       "    <tr>\n",
       "      <th>120</th>\n",
       "      <td>3.694643</td>\n",
       "      <td>0.200000</td>\n",
       "      <td>Adi Shamir</td>\n",
       "      <td>163.254789</td>\n",
       "      <td>-40.192852</td>\n",
       "      <td>0.050755</td>\n",
       "      <td>[a, ha, not, that, which, be, who, an, been, e...</td>\n",
       "      <td>1.0</td>\n",
       "      <td>4.0</td>\n",
       "      <td>653.0</td>\n",
       "      <td>Satoshi</td>\n",
       "    </tr>\n",
       "    <tr>\n",
       "      <th>82</th>\n",
       "      <td>3.696762</td>\n",
       "      <td>0.571429</td>\n",
       "      <td>Michael Clear</td>\n",
       "      <td>170.329081</td>\n",
       "      <td>-40.433757</td>\n",
       "      <td>0.036144</td>\n",
       "      <td>[do, ha, is, than, not, our, that, be, who, sh...</td>\n",
       "      <td>1.0</td>\n",
       "      <td>6.0</td>\n",
       "      <td>653.0</td>\n",
       "      <td>Satoshi</td>\n",
       "    </tr>\n",
       "    <tr>\n",
       "      <th>89</th>\n",
       "      <td>4.290411</td>\n",
       "      <td>0.956522</td>\n",
       "      <td>Gavin Andresen</td>\n",
       "      <td>86.439412</td>\n",
       "      <td>-16.913150</td>\n",
       "      <td>0.055314</td>\n",
       "      <td>[a, ha, all, our, that, which, be, an, will, m...</td>\n",
       "      <td>1.0</td>\n",
       "      <td>22.0</td>\n",
       "      <td>653.0</td>\n",
       "      <td>Satoshi</td>\n",
       "    </tr>\n",
       "    <tr>\n",
       "      <th>27</th>\n",
       "      <td>4.581794</td>\n",
       "      <td>0.833333</td>\n",
       "      <td>Grover</td>\n",
       "      <td>112.950696</td>\n",
       "      <td>-26.054825</td>\n",
       "      <td>0.079488</td>\n",
       "      <td>[a, have, even, now, every, for, so, with, any...</td>\n",
       "      <td>1.0</td>\n",
       "      <td>5.0</td>\n",
       "      <td>653.0</td>\n",
       "      <td>Satoshi</td>\n",
       "    </tr>\n",
       "    <tr>\n",
       "      <th>60</th>\n",
       "      <td>4.824959</td>\n",
       "      <td>0.750000</td>\n",
       "      <td>Crypto Collection</td>\n",
       "      <td>215.254218</td>\n",
       "      <td>-58.579910</td>\n",
       "      <td>0.064976</td>\n",
       "      <td>[a, do, is, than, have, not, that, be, even, w...</td>\n",
       "      <td>1.0</td>\n",
       "      <td>3.0</td>\n",
       "      <td>653.0</td>\n",
       "      <td>Satoshi</td>\n",
       "    </tr>\n",
       "    <tr>\n",
       "      <th>19</th>\n",
       "      <td>5.782895</td>\n",
       "      <td>0.954545</td>\n",
       "      <td>Fiction Writers</td>\n",
       "      <td>371.182577</td>\n",
       "      <td>-122.578719</td>\n",
       "      <td>0.177573</td>\n",
       "      <td>[do, ha, is, when, at, down, which, be, her, a...</td>\n",
       "      <td>1.0</td>\n",
       "      <td>21.0</td>\n",
       "      <td>653.0</td>\n",
       "      <td>Satoshi</td>\n",
       "    </tr>\n",
       "  </tbody>\n",
       "</table>\n",
       "</div>"
      ],
      "text/plain": [
       "           HC   HC_rank             author       chisq  chisq_pval    cosine  \\\n",
       "66   1.351396  0.500000       Stellar Team   37.670191   -5.324141  0.021914   \n",
       "136  2.135500  0.423077       Craig Wright   32.541475   -3.909248  0.032933   \n",
       "148  2.194399  0.500000      David Kleiman  111.164759  -20.344100  0.023306   \n",
       "44   2.306181  0.500000     Albert Eistein   70.138027  -11.553527  0.056249   \n",
       "104  2.332277  0.000000     Claude Shannon  107.376652  -21.768546  0.044278   \n",
       "68   2.407379  0.500000   Vili Lehdonvirta  181.350421  -41.093046  0.034677   \n",
       "95   2.448505  0.620690         Nick Szabo   43.290915   -5.887053  0.019360   \n",
       "75   2.752802  0.250000          Elon Musk   84.083685  -14.880272  0.058730   \n",
       "33   3.225341  0.928571         Hal Finney  106.270911  -22.126242  0.084432   \n",
       "6    3.315155  0.400000          Dan Boneh   86.436142  -16.256504  0.042592   \n",
       "67   3.521571  0.500000     Wright-Kleiman   71.716873  -13.435544  0.038895   \n",
       "120  3.694643  0.200000         Adi Shamir  163.254789  -40.192852  0.050755   \n",
       "82   3.696762  0.571429      Michael Clear  170.329081  -40.433757  0.036144   \n",
       "89   4.290411  0.956522     Gavin Andresen   86.439412  -16.913150  0.055314   \n",
       "27   4.581794  0.833333             Grover  112.950696  -26.054825  0.079488   \n",
       "60   4.824959  0.750000  Crypto Collection  215.254218  -58.579910  0.064976   \n",
       "19   5.782895  0.954545    Fiction Writers  371.182577 -122.578719  0.177573   \n",
       "\n",
       "                                                  feat  no_docs (author)  \\\n",
       "66               [which, be, will, so, because, being]               1.0   \n",
       "136  [a, that, every, should, but, on, then, with, ...               1.0   \n",
       "148  [a, than, not, our, every, but, only, your, be...               1.0   \n",
       "44       [a, than, which, be, an, will, according, we]               1.0   \n",
       "104  [do, is, not, which, who, an, every, their, bu...               1.0   \n",
       "68   [a, all, our, also, be, every, their, will, th...               8.0   \n",
       "95   [a, all, be, an, every, will, so, wa, had, mos...               1.0   \n",
       "75   [a, is, at, not, an, but, can, such, between, ...               1.0   \n",
       "33   [a, do, than, have, which, even, an, on, so, a...               1.0   \n",
       "6    [a, is, than, our, that, be, should, will, but...               1.0   \n",
       "67   [is, our, that, be, even, been, should, their,...               1.0   \n",
       "120  [a, ha, not, that, which, be, who, an, been, e...               1.0   \n",
       "82   [do, ha, is, than, not, our, that, be, who, sh...               1.0   \n",
       "89   [a, ha, all, our, that, which, be, an, will, m...               1.0   \n",
       "27   [a, have, even, now, every, for, so, with, any...               1.0   \n",
       "60   [a, do, is, than, have, not, that, be, even, w...               1.0   \n",
       "19   [do, ha, is, when, at, down, which, be, her, a...               1.0   \n",
       "\n",
       "     no_docs (wrt_author)  no_tokens (author) wrt_author  \n",
       "66                    1.0              2287.0    Satoshi  \n",
       "136                  25.0               653.0    Satoshi  \n",
       "148                   1.0               653.0    Satoshi  \n",
       "44                    1.0               653.0    Satoshi  \n",
       "104                   2.0               653.0    Satoshi  \n",
       "68                    1.0             15330.0    Satoshi  \n",
       "95                   28.0               653.0    Satoshi  \n",
       "75                    3.0               653.0    Satoshi  \n",
       "33                   13.0               653.0    Satoshi  \n",
       "6                     4.0               653.0    Satoshi  \n",
       "67                    1.0              1285.0    Satoshi  \n",
       "120                   4.0               653.0    Satoshi  \n",
       "82                    6.0               653.0    Satoshi  \n",
       "89                   22.0               653.0    Satoshi  \n",
       "27                    5.0               653.0    Satoshi  \n",
       "60                    3.0               653.0    Satoshi  \n",
       "19                   21.0               653.0    Satoshi  "
      ]
     },
     "execution_count": 34,
     "metadata": {},
     "output_type": "execute_result"
    }
   ],
   "source": [
    "df0 = model.internal_stats_corpus()\n",
    "df_satoshi = df0[(df0.author == 'Satoshi') | (df0.wrt_author == 'Satoshi')]\n",
    "df_satoshi.loc[df_satoshi.author == 'Satoshi', 'author'] =\\\n",
    "                df_satoshi.loc[df_satoshi.author == 'Satoshi','wrt_author']\n",
    "df_satoshi.loc[:,'wrt_author'] = 'Satoshi'\n",
    "\n",
    "df_satoshi.loc[df_satoshi.HC.sort_values().index,:]"
   ]
  },
  {
   "cell_type": "code",
   "execution_count": 35,
   "metadata": {},
   "outputs": [],
   "source": [
    "description = \"w{}_most_common_ng{}_remove_NN_web_remove_Satoshi_words\".format(len(model._vocab),NG_RANGE)\n",
    "description = \"function_words_remove_Satoshi_words\"\n",
    "pickle.dump(model,open(\"multi_{}.pkl\".format(description), \"wb\" ))"
   ]
  },
  {
   "cell_type": "code",
   "execution_count": 36,
   "metadata": {},
   "outputs": [
    {
     "data": {
      "image/png": "[encoded data removed]",
      "text/plain": [
       "<Figure size 640x480 with 1 Axes>"
      ]
     },
     "metadata": {},
     "output_type": "display_data"
    },
    {
     "name": "stdout",
     "output_type": "stream",
     "text": [
      "<ggplot: (-9223372036547513926)>\n"
     ]
    },
    {
     "name": "stderr",
     "output_type": "stream",
     "text": [
      "/usr/local/lib/python3.7/site-packages/plotnine/ggplot.py:706: UserWarning: Saving 15 x 4 in image.\n",
      "  from_inches(height, units), units))\n",
      "/usr/local/lib/python3.7/site-packages/plotnine/ggplot.py:707: UserWarning: Filename: /Users/kipnisal/Dropbox/Apps/Overleaf/Who is Satoshi/Figs/HC_wrt_satoshi_function_words_remove_Satoshi_words.png\n",
      "  warn('Filename: {}'.format(filename))\n"
     ]
    }
   ],
   "source": [
    "from plotnine import *\n",
    "import matplotlib.colors as mcolors\n",
    "\n",
    "path_to_figs = \"/Users/kipnisal/Dropbox/Apps/Overleaf/Who is Satoshi/Figs/\"\n",
    "\n",
    "ix = df_satoshi.reset_index().sort_values('HC').index.tolist()\n",
    "\n",
    "p = (ggplot(aes(x = 'author', y = 'HC', fill = 'author'), data = df_satoshi) \n",
    "     + geom_col(show_legend = False) + theme(axis_text_x=element_text(rotation=90, hjust=1)) \n",
    "  #  + scale_x_discrete(limits=ix)\n",
    "     + coord_flip()\n",
    "    )\n",
    "print(p)\n",
    "p.save(path_to_figs + \"HC_wrt_satoshi_{}.png\".format(description),height = 4, width = 15)\n"
   ]
  },
  {
   "cell_type": "markdown",
   "metadata": {},
   "source": [
    "<H2>Finalists</H2>"
   ]
  },
  {
   "cell_type": "code",
   "execution_count": 33,
   "metadata": {},
   "outputs": [
    {
     "name": "stderr",
     "output_type": "stream",
     "text": [
      "  0%|          | 0/1 [00:00<?, ?it/s]\n"
     ]
    },
    {
     "ename": "ValueError",
     "evalue": "seems like all counts are zero. Did you pass the wrong data format?",
     "output_type": "error",
     "traceback": [
      "\u001b[0;31m---------------------------------------------------------------------------\u001b[0m",
      "\u001b[0;31mValueError\u001b[0m                                Traceback (most recent call last)",
      "\u001b[0;32m<ipython-input-33-5294175d9ea6>\u001b[0m in \u001b[0;36m<module>\u001b[0;34m\u001b[0m\n\u001b[1;32m      1\u001b[0m \u001b[0;31m#scores wrt Satoshi\u001b[0m\u001b[0;34m\u001b[0m\u001b[0;34m\u001b[0m\u001b[0;34m\u001b[0m\u001b[0m\n\u001b[1;32m      2\u001b[0m \u001b[0mfinalists\u001b[0m \u001b[0;34m=\u001b[0m \u001b[0;34m[\u001b[0m\u001b[0;34m'Nick Szabo'\u001b[0m\u001b[0;34m]\u001b[0m\u001b[0;34m\u001b[0m\u001b[0;34m\u001b[0m\u001b[0m\n\u001b[0;32m----> 3\u001b[0;31m \u001b[0mdf\u001b[0m \u001b[0;34m=\u001b[0m \u001b[0mmodel\u001b[0m\u001b[0;34m.\u001b[0m\u001b[0minternal_stats\u001b[0m\u001b[0;34m(\u001b[0m\u001b[0mwrt_authors\u001b[0m\u001b[0;34m=\u001b[0m\u001b[0mfinalists\u001b[0m\u001b[0;34m,\u001b[0m \u001b[0mLOO\u001b[0m \u001b[0;34m=\u001b[0m \u001b[0;32mFalse\u001b[0m\u001b[0;34m)\u001b[0m\u001b[0;34m\u001b[0m\u001b[0;34m\u001b[0m\u001b[0m\n\u001b[0m",
      "\u001b[0;32m~/Documents/Authorship/AuthAttLib.py\u001b[0m in \u001b[0;36minternal_stats\u001b[0;34m(self, wrt_authors, LOO)\u001b[0m\n\u001b[1;32m    264\u001b[0m                 \u001b[0mlo_docs\u001b[0m \u001b[0;34m=\u001b[0m \u001b[0mmd1\u001b[0m\u001b[0;34m.\u001b[0m\u001b[0mget_document_names\u001b[0m\u001b[0;34m(\u001b[0m\u001b[0;34m)\u001b[0m\u001b[0;34m\u001b[0m\u001b[0;34m\u001b[0m\u001b[0m\n\u001b[1;32m    265\u001b[0m                 \u001b[0;32mfor\u001b[0m \u001b[0mdn\u001b[0m \u001b[0;32min\u001b[0m \u001b[0mlo_docs\u001b[0m\u001b[0;34m:\u001b[0m\u001b[0;34m\u001b[0m\u001b[0;34m\u001b[0m\u001b[0m\n\u001b[0;32m--> 266\u001b[0;31m                     \u001b[0mdtbl\u001b[0m \u001b[0;34m=\u001b[0m \u001b[0mmd1\u001b[0m\u001b[0;34m.\u001b[0m\u001b[0mget_doc_as_table\u001b[0m\u001b[0;34m(\u001b[0m\u001b[0mdn\u001b[0m\u001b[0;34m)\u001b[0m\u001b[0;34m\u001b[0m\u001b[0;34m\u001b[0m\u001b[0m\n\u001b[0m\u001b[1;32m    267\u001b[0m                     \u001b[0;32mif\u001b[0m \u001b[0mauth0\u001b[0m \u001b[0;34m==\u001b[0m \u001b[0mauth1\u001b[0m\u001b[0;34m:\u001b[0m\u001b[0;34m\u001b[0m\u001b[0;34m\u001b[0m\u001b[0m\n\u001b[1;32m    268\u001b[0m                         HC, rank, feat = md0.get_HC_rank_features(\n",
      "\u001b[0;32m~/Documents/Authorship/DocTermTable.py\u001b[0m in \u001b[0;36mget_doc_as_table\u001b[0;34m(self, doc_id)\u001b[0m\n\u001b[1;32m    271\u001b[0m                                  \u001b[0mfeature_names\u001b[0m\u001b[0;34m=\u001b[0m\u001b[0mself\u001b[0m\u001b[0;34m.\u001b[0m\u001b[0m_feature_names\u001b[0m\u001b[0;34m,\u001b[0m\u001b[0;34m\u001b[0m\u001b[0;34m\u001b[0m\u001b[0m\n\u001b[1;32m    272\u001b[0m                                  \u001b[0mdocument_names\u001b[0m\u001b[0;34m=\u001b[0m\u001b[0;34m[\u001b[0m\u001b[0mdoc_id\u001b[0m\u001b[0;34m]\u001b[0m\u001b[0;34m,\u001b[0m\u001b[0;34m\u001b[0m\u001b[0;34m\u001b[0m\u001b[0m\n\u001b[0;32m--> 273\u001b[0;31m                                  stbl=self._stbl)\n\u001b[0m\u001b[1;32m    274\u001b[0m         \u001b[0;32mreturn\u001b[0m \u001b[0mnew_table\u001b[0m\u001b[0;34m\u001b[0m\u001b[0;34m\u001b[0m\u001b[0m\n\u001b[1;32m    275\u001b[0m \u001b[0;34m\u001b[0m\u001b[0m\n",
      "\u001b[0;32m~/Documents/Authorship/DocTermTable.py\u001b[0m in \u001b[0;36m__init__\u001b[0;34m(self, dtm, feature_names, document_names, stbl)\u001b[0m\n\u001b[1;32m     62\u001b[0m         \u001b[0;32mif\u001b[0m \u001b[0mdtm\u001b[0m\u001b[0;34m.\u001b[0m\u001b[0msum\u001b[0m\u001b[0;34m(\u001b[0m\u001b[0;34m)\u001b[0m \u001b[0;34m==\u001b[0m \u001b[0;36m0\u001b[0m\u001b[0;34m:\u001b[0m\u001b[0;34m\u001b[0m\u001b[0;34m\u001b[0m\u001b[0m\n\u001b[1;32m     63\u001b[0m             raise ValueError(\n\u001b[0;32m---> 64\u001b[0;31m                 \u001b[0;34m\"seems like all counts are zero. \"\u001b[0m\u001b[0;31m\\\u001b[0m\u001b[0;34m\u001b[0m\u001b[0;34m\u001b[0m\u001b[0m\n\u001b[0m\u001b[1;32m     65\u001b[0m                 \u001b[0;34m+\u001b[0m\u001b[0;34m\"Did you pass the wrong data format?\"\u001b[0m\u001b[0;34m\u001b[0m\u001b[0;34m\u001b[0m\u001b[0m\n\u001b[1;32m     66\u001b[0m             )\n",
      "\u001b[0;31mValueError\u001b[0m: seems like all counts are zero. Did you pass the wrong data format?"
     ]
    }
   ],
   "source": [
    "#scores wrt Satoshi\n",
    "finalists = ('Craig Wright', 'Nick Szabo', 'Hal Finney')\n",
    "df = model.internal_stats(wrt_authors=finalists, LOO = False)"
   ]
  },
  {
   "cell_type": "code",
   "execution_count": null,
   "metadata": {},
   "outputs": [],
   "source": [
    "wrt_authors = ['Craig Wright', 'Nick Szabo']\n",
    "p = plot_author_pair(df[df.author.isin(wrt_authors + ['Satoshi'])], value = 'HC',  wrt_authors = wrt_authors)\n",
    "print(p)\n",
    "p = plot_LDA(df[df.author.isin(wrt_authors + ['Satoshi'])], value = 'HC',  wrt_authors = wrt_authors)\n",
    "print(p)"
   ]
  },
  {
   "cell_type": "code",
   "execution_count": null,
   "metadata": {},
   "outputs": [],
   "source": [
    "wrt_authors = ['Craig Wright', 'Hal Finney']\n",
    "p = plot_author_pair(df[df.author.isin(wrt_authors + ['Satoshi'])], value = 'HC',  wrt_authors = wrt_authors)\n",
    "print(p)\n",
    "p = plot_LDA(df[df.author.isin(wrt_authors + ['Satoshi'])], value = 'HC',  wrt_authors = wrt_authors)\n",
    "print(p)"
   ]
  },
  {
   "cell_type": "code",
   "execution_count": 20,
   "metadata": {},
   "outputs": [
    {
     "ename": "NameError",
     "evalue": "name 'df' is not defined",
     "output_type": "error",
     "traceback": [
      "\u001b[0;31m---------------------------------------------------------------------------\u001b[0m",
      "\u001b[0;31mNameError\u001b[0m                                 Traceback (most recent call last)",
      "\u001b[0;32m<ipython-input-20-7e68b109f07c>\u001b[0m in \u001b[0;36m<module>\u001b[0;34m\u001b[0m\n\u001b[1;32m      1\u001b[0m \u001b[0mwrt_authors\u001b[0m \u001b[0;34m=\u001b[0m \u001b[0;34m[\u001b[0m\u001b[0;34m'Hal Finney'\u001b[0m\u001b[0;34m,\u001b[0m \u001b[0;34m'Nick Szabo'\u001b[0m\u001b[0;34m]\u001b[0m\u001b[0;34m\u001b[0m\u001b[0;34m\u001b[0m\u001b[0m\n\u001b[0;32m----> 2\u001b[0;31m \u001b[0mp\u001b[0m \u001b[0;34m=\u001b[0m \u001b[0mplot_author_pair\u001b[0m\u001b[0;34m(\u001b[0m\u001b[0mdf\u001b[0m\u001b[0;34m[\u001b[0m\u001b[0mdf\u001b[0m\u001b[0;34m.\u001b[0m\u001b[0mauthor\u001b[0m\u001b[0;34m.\u001b[0m\u001b[0misin\u001b[0m\u001b[0;34m(\u001b[0m\u001b[0mwrt_authors\u001b[0m \u001b[0;34m+\u001b[0m \u001b[0;34m[\u001b[0m\u001b[0;34m'Satoshi'\u001b[0m\u001b[0;34m]\u001b[0m\u001b[0;34m)\u001b[0m\u001b[0;34m]\u001b[0m\u001b[0;34m,\u001b[0m \u001b[0mvalue\u001b[0m \u001b[0;34m=\u001b[0m \u001b[0;34m'HC'\u001b[0m\u001b[0;34m,\u001b[0m  \u001b[0mwrt_authors\u001b[0m \u001b[0;34m=\u001b[0m \u001b[0mwrt_authors\u001b[0m\u001b[0;34m)\u001b[0m\u001b[0;34m\u001b[0m\u001b[0;34m\u001b[0m\u001b[0m\n\u001b[0m\u001b[1;32m      3\u001b[0m \u001b[0mprint\u001b[0m\u001b[0;34m(\u001b[0m\u001b[0mp\u001b[0m\u001b[0;34m)\u001b[0m\u001b[0;34m\u001b[0m\u001b[0;34m\u001b[0m\u001b[0m\n\u001b[1;32m      4\u001b[0m \u001b[0;34m\u001b[0m\u001b[0m\n\u001b[1;32m      5\u001b[0m \u001b[0mp\u001b[0m \u001b[0;34m=\u001b[0m \u001b[0mplot_LDA\u001b[0m\u001b[0;34m(\u001b[0m\u001b[0mdf\u001b[0m\u001b[0;34m[\u001b[0m\u001b[0mdf\u001b[0m\u001b[0;34m.\u001b[0m\u001b[0mauthor\u001b[0m\u001b[0;34m.\u001b[0m\u001b[0misin\u001b[0m\u001b[0;34m(\u001b[0m\u001b[0mwrt_authors\u001b[0m \u001b[0;34m+\u001b[0m \u001b[0;34m[\u001b[0m\u001b[0;34m'Satoshi'\u001b[0m\u001b[0;34m]\u001b[0m\u001b[0;34m)\u001b[0m\u001b[0;34m]\u001b[0m\u001b[0;34m,\u001b[0m \u001b[0mvalue\u001b[0m \u001b[0;34m=\u001b[0m \u001b[0;34m'HC'\u001b[0m\u001b[0;34m,\u001b[0m  \u001b[0mwrt_authors\u001b[0m \u001b[0;34m=\u001b[0m \u001b[0mwrt_authors\u001b[0m\u001b[0;34m)\u001b[0m\u001b[0;34m\u001b[0m\u001b[0;34m\u001b[0m\u001b[0m\n",
      "\u001b[0;31mNameError\u001b[0m: name 'df' is not defined"
     ]
    }
   ],
   "source": [
    "wrt_authors = ['Hal Finney', 'Nick Szabo']\n",
    "p = plot_author_pair(df[df.author.isin(wrt_authors + ['Satoshi'])], value = 'HC',  wrt_authors = wrt_authors)\n",
    "print(p)\n",
    "\n",
    "p = plot_LDA(df[df.author.isin(wrt_authors + ['Satoshi'])], value = 'HC',  wrt_authors = wrt_authors)\n",
    "print(p)"
   ]
  },
  {
   "cell_type": "code",
   "execution_count": 116,
   "metadata": {},
   "outputs": [
    {
     "name": "stderr",
     "output_type": "stream",
     "text": [
      "/usr/local/lib/python3.7/site-packages/ipykernel_launcher.py:4: UserWarning: Boolean Series key will be reindexed to match DataFrame index.\n",
      "  after removing the cwd from sys.path.\n"
     ]
    },
    {
     "name": "stdout",
     "output_type": "stream",
     "text": [
      "Found 6 author-pairs\n",
      "MultiBinaryAuthorModel: Creating model for Hal Finney vs Nick Szabo...\n",
      "\t Creating author-model for Hal Finney using 1000 features...\n",
      "\t\tfound 13 documents and 2001 relevant tokens.\n",
      "\t Creating author-model for Nick Szabo using 1000 features...\n",
      "\t\tfound 28 documents and 17716 relevant tokens.\n",
      "Changing vocabulary for Hal Finney. Found 640 relevant tokens.\n",
      "Changing vocabulary for Nick Szabo. Found 3660 relevant tokens.\n",
      "Reduced to 78 features...\n",
      "MultiBinaryAuthorModel: Creating model for Craig Wright vs Hal Finney...\n",
      "\t Creating author-model for Hal Finney using 1000 features...\n",
      "\t\tfound 13 documents and 2001 relevant tokens.\n",
      "\t Creating author-model for Craig Wright using 1000 features...\n",
      "\t\tfound 23 documents and 11739 relevant tokens.\n",
      "Changing vocabulary for Hal Finney. Found 457 relevant tokens.\n",
      "Changing vocabulary for Craig Wright. Found 1637 relevant tokens.\n",
      "Reduced to 74 features...\n",
      "MultiBinaryAuthorModel: Creating model for Craig Wright vs Nick Szabo...\n",
      "\t Creating author-model for Nick Szabo using 1000 features...\n",
      "\t\tfound 28 documents and 17716 relevant tokens.\n",
      "\t Creating author-model for Craig Wright using 1000 features...\n",
      "\t\tfound 23 documents and 11739 relevant tokens.\n",
      "Changing vocabulary for Nick Szabo. Found 9205 relevant tokens.\n",
      "Changing vocabulary for Craig Wright. Found 6438 relevant tokens.\n",
      "Reduced to 357 features...\n",
      "MultiBinaryAuthorModel: Creating model for Craig Wright vs David Kleiman...\n",
      "\t Creating author-model for Craig Wright using 1000 features...\n",
      "\t\tfound 23 documents and 11739 relevant tokens.\n",
      "\t Creating author-model for David Kleiman using 1000 features...\n",
      "\t\tfound 1 documents and 69778 relevant tokens.\n",
      "Changing vocabulary for Craig Wright. Found 6650 relevant tokens.\n",
      "Changing vocabulary for David Kleiman. Found 39026 relevant tokens.\n",
      "Reduced to 423 features...\n",
      "MultiBinaryAuthorModel: Creating model for David Kleiman vs Hal Finney...\n",
      "\t Creating author-model for Hal Finney using 1000 features...\n",
      "\t\tfound 13 documents and 2001 relevant tokens.\n",
      "\t Creating author-model for David Kleiman using 1000 features...\n",
      "\t\tfound 1 documents and 69778 relevant tokens.\n",
      "Changing vocabulary for Hal Finney. Found 980 relevant tokens.\n",
      "Changing vocabulary for David Kleiman. Found 20046 relevant tokens.\n",
      "Reduced to 169 features...\n",
      "MultiBinaryAuthorModel: Creating model for David Kleiman vs Nick Szabo...\n",
      "\t Creating author-model for Nick Szabo using 1000 features...\n",
      "\t\tfound 28 documents and 17716 relevant tokens.\n",
      "\t Creating author-model for David Kleiman using 1000 features...\n",
      "\t\tfound 1 documents and 69778 relevant tokens.\n",
      "Changing vocabulary for Nick Szabo. Found 10522 relevant tokens.\n",
      "Changing vocabulary for David Kleiman. Found 41028 relevant tokens.\n",
      "Reduced to 424 features...\n"
     ]
    }
   ],
   "source": [
    "# TODO: only use list of finalists\n",
    "finalists = ('Nick Szabo', 'Hal Finney', 'Craig Wright', 'David Kleiman')\n",
    "ds = data_proc\n",
    "ds = ds[~ds['type'].isin(['technical','email'])][ds.author.isin(finalists)]\n",
    "#ds = ds[~((ds.author == 'Satoshi') & (ds.type.isin(['emails', 'technical (forum)'])))]\n",
    "\n",
    "model_binary = AuthorshipAttributionMultiBinary(ds,\n",
    "                                vocab = model._vocab,\n",
    "                                ngram_range=(2,3),\n",
    "                                reduce_features=True\n",
    "                                        )"
   ]
  },
  {
   "cell_type": "code",
   "execution_count": 104,
   "metadata": {},
   "outputs": [],
   "source": [
    "btc_paper = data_proc[data_proc.doc_id == 'Bitcoin_whitepaper.txt']"
   ]
  },
  {
   "cell_type": "code",
   "execution_count": 121,
   "metadata": {},
   "outputs": [
    {
     "name": "stderr",
     "output_type": "stream",
     "text": [
      "\n",
      "  0%|          | 0/2 [00:00<?, ?it/s]\u001b[A"
     ]
    },
    {
     "ename": "ValueError",
     "evalue": "seems like all counts are zero. Did you pass the wrong data format?",
     "output_type": "error",
     "traceback": [
      "\u001b[0;31m---------------------------------------------------------------------------\u001b[0m",
      "\u001b[0;31mValueError\u001b[0m                                Traceback (most recent call last)",
      "\u001b[0;32m<ipython-input-121-53157ef887f7>\u001b[0m in \u001b[0;36m<module>\u001b[0;34m\u001b[0m\n\u001b[1;32m      2\u001b[0m \u001b[0mpair\u001b[0m \u001b[0;34m=\u001b[0m \u001b[0;34m(\u001b[0m\u001b[0;34m'Craig Wright'\u001b[0m\u001b[0;34m,\u001b[0m\u001b[0;34m'Hal Finney'\u001b[0m\u001b[0;34m)\u001b[0m\u001b[0;34m\u001b[0m\u001b[0;34m\u001b[0m\u001b[0m\n\u001b[1;32m      3\u001b[0m \u001b[0mmd\u001b[0m \u001b[0;34m=\u001b[0m \u001b[0mmodel_binary\u001b[0m\u001b[0;34m.\u001b[0m\u001b[0m_AuthorPairModel\u001b[0m\u001b[0;34m[\u001b[0m\u001b[0mpair\u001b[0m\u001b[0;34m]\u001b[0m\u001b[0;34m\u001b[0m\u001b[0;34m\u001b[0m\u001b[0m\n\u001b[0;32m----> 4\u001b[0;31m \u001b[0mdf\u001b[0m \u001b[0;34m=\u001b[0m \u001b[0mmd\u001b[0m\u001b[0;34m.\u001b[0m\u001b[0minternal_stats\u001b[0m\u001b[0;34m(\u001b[0m\u001b[0;34m)\u001b[0m\u001b[0;34m\u001b[0m\u001b[0;34m\u001b[0m\u001b[0m\n\u001b[0m\u001b[1;32m      5\u001b[0m \u001b[0mdf1\u001b[0m \u001b[0;34m=\u001b[0m \u001b[0mmd\u001b[0m\u001b[0;34m.\u001b[0m\u001b[0mpredict_stats\u001b[0m\u001b[0;34m(\u001b[0m\u001b[0mbtc_paper\u001b[0m\u001b[0;34m.\u001b[0m\u001b[0mtext\u001b[0m\u001b[0;34m.\u001b[0m\u001b[0mvalues\u001b[0m\u001b[0;34m[\u001b[0m\u001b[0;36m0\u001b[0m\u001b[0;34m]\u001b[0m\u001b[0;34m)\u001b[0m\u001b[0;34m\u001b[0m\u001b[0;34m\u001b[0m\u001b[0m\n\u001b[1;32m      6\u001b[0m \u001b[0mdf1\u001b[0m\u001b[0;34m.\u001b[0m\u001b[0mloc\u001b[0m\u001b[0;34m[\u001b[0m\u001b[0;34m:\u001b[0m\u001b[0;34m,\u001b[0m\u001b[0;34m'doc_id'\u001b[0m\u001b[0;34m]\u001b[0m \u001b[0;34m=\u001b[0m \u001b[0;34m'Bitcoin_whitepaper.txt'\u001b[0m\u001b[0;34m\u001b[0m\u001b[0;34m\u001b[0m\u001b[0m\n",
      "\u001b[0;32m~/Documents/Authorship/AuthAttLib.py\u001b[0m in \u001b[0;36minternal_stats\u001b[0;34m(self, wrt_authors, LOO)\u001b[0m\n\u001b[1;32m    264\u001b[0m                 \u001b[0mlo_docs\u001b[0m \u001b[0;34m=\u001b[0m \u001b[0mmd1\u001b[0m\u001b[0;34m.\u001b[0m\u001b[0mget_document_names\u001b[0m\u001b[0;34m(\u001b[0m\u001b[0;34m)\u001b[0m\u001b[0;34m\u001b[0m\u001b[0;34m\u001b[0m\u001b[0m\n\u001b[1;32m    265\u001b[0m                 \u001b[0;32mfor\u001b[0m \u001b[0mdn\u001b[0m \u001b[0;32min\u001b[0m \u001b[0mlo_docs\u001b[0m\u001b[0;34m:\u001b[0m\u001b[0;34m\u001b[0m\u001b[0;34m\u001b[0m\u001b[0m\n\u001b[0;32m--> 266\u001b[0;31m                     \u001b[0mdtbl\u001b[0m \u001b[0;34m=\u001b[0m \u001b[0mmd1\u001b[0m\u001b[0;34m.\u001b[0m\u001b[0mget_doc_as_table\u001b[0m\u001b[0;34m(\u001b[0m\u001b[0mdn\u001b[0m\u001b[0;34m)\u001b[0m\u001b[0;34m\u001b[0m\u001b[0;34m\u001b[0m\u001b[0m\n\u001b[0m\u001b[1;32m    267\u001b[0m                     \u001b[0;32mif\u001b[0m \u001b[0mauth0\u001b[0m \u001b[0;34m==\u001b[0m \u001b[0mauth1\u001b[0m\u001b[0;34m:\u001b[0m\u001b[0;34m\u001b[0m\u001b[0;34m\u001b[0m\u001b[0m\n\u001b[1;32m    268\u001b[0m                         HC, rank, feat = md0.get_HC_rank_features(\n",
      "\u001b[0;32m~/Documents/Authorship/DocTermTable.py\u001b[0m in \u001b[0;36mget_doc_as_table\u001b[0;34m(self, doc_id)\u001b[0m\n\u001b[1;32m    271\u001b[0m                                  \u001b[0mfeature_names\u001b[0m\u001b[0;34m=\u001b[0m\u001b[0mself\u001b[0m\u001b[0;34m.\u001b[0m\u001b[0m_feature_names\u001b[0m\u001b[0;34m,\u001b[0m\u001b[0;34m\u001b[0m\u001b[0;34m\u001b[0m\u001b[0m\n\u001b[1;32m    272\u001b[0m                                  \u001b[0mdocument_names\u001b[0m\u001b[0;34m=\u001b[0m\u001b[0;34m[\u001b[0m\u001b[0mdoc_id\u001b[0m\u001b[0;34m]\u001b[0m\u001b[0;34m,\u001b[0m\u001b[0;34m\u001b[0m\u001b[0;34m\u001b[0m\u001b[0m\n\u001b[0;32m--> 273\u001b[0;31m                                  stbl=self._stbl)\n\u001b[0m\u001b[1;32m    274\u001b[0m         \u001b[0;32mreturn\u001b[0m \u001b[0mnew_table\u001b[0m\u001b[0;34m\u001b[0m\u001b[0;34m\u001b[0m\u001b[0m\n\u001b[1;32m    275\u001b[0m \u001b[0;34m\u001b[0m\u001b[0m\n",
      "\u001b[0;32m~/Documents/Authorship/DocTermTable.py\u001b[0m in \u001b[0;36m__init__\u001b[0;34m(self, dtm, feature_names, document_names, stbl)\u001b[0m\n\u001b[1;32m     62\u001b[0m         \u001b[0;32mif\u001b[0m \u001b[0mdtm\u001b[0m\u001b[0;34m.\u001b[0m\u001b[0msum\u001b[0m\u001b[0;34m(\u001b[0m\u001b[0;34m)\u001b[0m \u001b[0;34m==\u001b[0m \u001b[0;36m0\u001b[0m\u001b[0;34m:\u001b[0m\u001b[0;34m\u001b[0m\u001b[0;34m\u001b[0m\u001b[0m\n\u001b[1;32m     63\u001b[0m             raise ValueError(\n\u001b[0;32m---> 64\u001b[0;31m                 \u001b[0;34m\"seems like all counts are zero. \"\u001b[0m\u001b[0;31m\\\u001b[0m\u001b[0;34m\u001b[0m\u001b[0;34m\u001b[0m\u001b[0m\n\u001b[0m\u001b[1;32m     65\u001b[0m                 \u001b[0;34m+\u001b[0m\u001b[0;34m\"Did you pass the wrong data format?\"\u001b[0m\u001b[0;34m\u001b[0m\u001b[0;34m\u001b[0m\u001b[0m\n\u001b[1;32m     66\u001b[0m             )\n",
      "\u001b[0;31mValueError\u001b[0m: seems like all counts are zero. Did you pass the wrong data format?"
     ]
    }
   ],
   "source": [
    "# illustrate one pair\n",
    "pair = ('Craig Wright','Hal Finney')\n",
    "md = model_binary._AuthorPairModel[pair]\n",
    "df = md.internal_stats()\n",
    "df1 = md.predict_stats(btc_paper.text.values[0])\n",
    "df1.loc[:,'doc_id'] = 'Bitcoin_whitepaper.txt'\n",
    "df1.loc[:,'author'] = 'Satoshi'\n",
    "df_all = df.filter(['HC', 'HC_rank','author', 'chisq', 'chisq_pval', 'doc_id', 'wrt_author']).append(df1)\n"
   ]
  },
  {
   "cell_type": "code",
   "execution_count": 45,
   "metadata": {},
   "outputs": [
    {
     "data": {
      "image/png": "[encoded data removed]",
      "text/plain": [
       "<Figure size 640x480 with 1 Axes>"
      ]
     },
     "metadata": {},
     "output_type": "display_data"
    },
    {
     "name": "stdout",
     "output_type": "stream",
     "text": [
      "<ggplot: (315791238)>\n"
     ]
    },
    {
     "name": "stderr",
     "output_type": "stream",
     "text": [
      "/usr/local/lib/python3.7/site-packages/scipy/stats/_distn_infrastructure.py:874: RuntimeWarning: invalid value encountered in greater_equal\n",
      "  return (self.a <= x) & (x <= self.b)\n",
      "/usr/local/lib/python3.7/site-packages/scipy/stats/_distn_infrastructure.py:874: RuntimeWarning: invalid value encountered in less_equal\n",
      "  return (self.a <= x) & (x <= self.b)\n",
      "/usr/local/lib/python3.7/site-packages/plotnine/layer.py:517: MatplotlibDeprecationWarning: isinstance(..., numbers.Number)\n",
      "  return not cbook.iterable(value) and (cbook.is_numlike(value) or\n",
      "/usr/local/lib/python3.7/site-packages/plotnine/stats/stat.py:310: FutureWarning: Sorting because non-concatenation axis is not aligned. A future version\n",
      "of pandas will change to not sort by default.\n",
      "\n",
      "To accept the future behavior, pass 'sort=False'.\n",
      "\n",
      "To retain the current behavior and silence the warning, pass 'sort=True'.\n",
      "\n",
      "  stats = pd.concat(stats, axis=0, ignore_index=True)\n",
      "/usr/local/lib/python3.7/site-packages/plotnine/layer.py:449: UserWarning: geom_bar : Removed 30 rows containing missing values.\n",
      "  self.data = self.geom.handle_na(self.data)\n",
      "/usr/local/lib/python3.7/site-packages/plotnine/geoms/geom_path.py:74: UserWarning: geom_path: Removed 2 rows containing missing values.\n",
      "  warn(msg.format(n1-n2))\n",
      "/usr/local/lib/python3.7/site-packages/plotnine/geoms/geom_path.py:74: UserWarning: geom_path: Removed 2 rows containing missing values.\n",
      "  warn(msg.format(n1-n2))\n"
     ]
    },
    {
     "data": {
      "image/png": "[encoded data removed]",
      "text/plain": [
       "<Figure size 640x480 with 1 Axes>"
      ]
     },
     "metadata": {},
     "output_type": "display_data"
    },
    {
     "name": "stdout",
     "output_type": "stream",
     "text": [
      "<ggplot: (-9223372036549233639)>\n"
     ]
    }
   ],
   "source": [
    "p = plot_author_pair(df_all[df_all.author.isin(list(pair) + ['Satoshi'])], value = 'HC',  wrt_authors = pair)\n",
    "print(p)\n",
    "\n",
    "p = plot_LDA(df_all[df_all.author.isin(list(pair) + ['Satoshi'])], value = 'HC',  wrt_authors = pair)\n",
    "print(p)"
   ]
  },
  {
   "cell_type": "code",
   "execution_count": 46,
   "metadata": {},
   "outputs": [
    {
     "name": "stderr",
     "output_type": "stream",
     "text": [
      "/usr/local/lib/python3.7/site-packages/plotnine/layer.py:449: UserWarning: geom_point : Removed 1 rows containing missing values.\n",
      "  self.data = self.geom.handle_na(self.data)\n"
     ]
    },
    {
     "data": {
      "image/png": "[encoded data removed]",
      "text/plain": [
       "<Figure size 640x480 with 1 Axes>"
      ]
     },
     "metadata": {},
     "output_type": "display_data"
    },
    {
     "name": "stdout",
     "output_type": "stream",
     "text": [
      "<ggplot: (314942619)>\n"
     ]
    },
    {
     "ename": "ValueError",
     "evalue": "Input contains NaN, infinity or a value too large for dtype('float64').",
     "output_type": "error",
     "traceback": [
      "\u001b[0;31m---------------------------------------------------------------------------\u001b[0m",
      "\u001b[0;31mValueError\u001b[0m                                Traceback (most recent call last)",
      "\u001b[0;32m<ipython-input-46-52863af9dc32>\u001b[0m in \u001b[0;36m<module>\u001b[0;34m\u001b[0m\n\u001b[1;32m      2\u001b[0m \u001b[0mprint\u001b[0m\u001b[0;34m(\u001b[0m\u001b[0mp\u001b[0m\u001b[0;34m)\u001b[0m\u001b[0;34m\u001b[0m\u001b[0;34m\u001b[0m\u001b[0m\n\u001b[1;32m      3\u001b[0m \u001b[0;34m\u001b[0m\u001b[0m\n\u001b[0;32m----> 4\u001b[0;31m \u001b[0mp\u001b[0m \u001b[0;34m=\u001b[0m \u001b[0mplot_LDA\u001b[0m\u001b[0;34m(\u001b[0m\u001b[0mdf_all\u001b[0m\u001b[0;34m[\u001b[0m\u001b[0mdf_all\u001b[0m\u001b[0;34m.\u001b[0m\u001b[0mauthor\u001b[0m\u001b[0;34m.\u001b[0m\u001b[0misin\u001b[0m\u001b[0;34m(\u001b[0m\u001b[0mlist\u001b[0m\u001b[0;34m(\u001b[0m\u001b[0mpair\u001b[0m\u001b[0;34m)\u001b[0m \u001b[0;34m+\u001b[0m \u001b[0;34m[\u001b[0m\u001b[0;34m'Satoshi'\u001b[0m\u001b[0;34m]\u001b[0m\u001b[0;34m)\u001b[0m\u001b[0;34m]\u001b[0m\u001b[0;34m,\u001b[0m \u001b[0mvalue\u001b[0m \u001b[0;34m=\u001b[0m \u001b[0;34m'chisq'\u001b[0m\u001b[0;34m,\u001b[0m  \u001b[0mwrt_authors\u001b[0m \u001b[0;34m=\u001b[0m \u001b[0mpair\u001b[0m\u001b[0;34m)\u001b[0m\u001b[0;34m\u001b[0m\u001b[0;34m\u001b[0m\u001b[0m\n\u001b[0m\u001b[1;32m      5\u001b[0m \u001b[0mprint\u001b[0m\u001b[0;34m(\u001b[0m\u001b[0mp\u001b[0m\u001b[0;34m)\u001b[0m\u001b[0;34m\u001b[0m\u001b[0;34m\u001b[0m\u001b[0m\n",
      "\u001b[0;32m~/Documents/Authorship/visualize_HC_scores.py\u001b[0m in \u001b[0;36mplot_LDA\u001b[0;34m(df, value, wrt_authors, sym)\u001b[0m\n\u001b[1;32m    145\u001b[0m         \u001b[0my\u001b[0m \u001b[0;34m=\u001b[0m \u001b[0mnp\u001b[0m\u001b[0;34m.\u001b[0m\u001b[0marray\u001b[0m\u001b[0;34m(\u001b[0m\u001b[0mdf_red\u001b[0m\u001b[0;34m.\u001b[0m\u001b[0mauthor\u001b[0m\u001b[0;34m)\u001b[0m\u001b[0;34m\u001b[0m\u001b[0;34m\u001b[0m\u001b[0m\n\u001b[1;32m    146\u001b[0m         \u001b[0mclf\u001b[0m \u001b[0;34m=\u001b[0m \u001b[0mLinearDiscriminantAnalysis\u001b[0m\u001b[0;34m(\u001b[0m\u001b[0;34m)\u001b[0m\u001b[0;34m\u001b[0m\u001b[0;34m\u001b[0m\u001b[0m\n\u001b[0;32m--> 147\u001b[0;31m         \u001b[0mclf\u001b[0m\u001b[0;34m.\u001b[0m\u001b[0mfit\u001b[0m\u001b[0;34m(\u001b[0m\u001b[0mX\u001b[0m\u001b[0;34m,\u001b[0m \u001b[0my\u001b[0m\u001b[0;34m)\u001b[0m\u001b[0;34m\u001b[0m\u001b[0;34m\u001b[0m\u001b[0m\n\u001b[0m\u001b[1;32m    148\u001b[0m         LinearDiscriminantAnalysis(n_components=None, priors=None, shrinkage=None,\n\u001b[1;32m    149\u001b[0m                       solver='lsqr', store_covariance=True, tol=0.0001)\n",
      "\u001b[0;32m/usr/local/lib/python3.7/site-packages/sklearn/discriminant_analysis.py\u001b[0m in \u001b[0;36mfit\u001b[0;34m(self, X, y)\u001b[0m\n\u001b[1;32m    427\u001b[0m             \u001b[0mTarget\u001b[0m \u001b[0mvalues\u001b[0m\u001b[0;34m.\u001b[0m\u001b[0;34m\u001b[0m\u001b[0;34m\u001b[0m\u001b[0m\n\u001b[1;32m    428\u001b[0m         \"\"\"\n\u001b[0;32m--> 429\u001b[0;31m         \u001b[0mX\u001b[0m\u001b[0;34m,\u001b[0m \u001b[0my\u001b[0m \u001b[0;34m=\u001b[0m \u001b[0mcheck_X_y\u001b[0m\u001b[0;34m(\u001b[0m\u001b[0mX\u001b[0m\u001b[0;34m,\u001b[0m \u001b[0my\u001b[0m\u001b[0;34m,\u001b[0m \u001b[0mensure_min_samples\u001b[0m\u001b[0;34m=\u001b[0m\u001b[0;36m2\u001b[0m\u001b[0;34m,\u001b[0m \u001b[0mestimator\u001b[0m\u001b[0;34m=\u001b[0m\u001b[0mself\u001b[0m\u001b[0;34m)\u001b[0m\u001b[0;34m\u001b[0m\u001b[0;34m\u001b[0m\u001b[0m\n\u001b[0m\u001b[1;32m    430\u001b[0m         \u001b[0mself\u001b[0m\u001b[0;34m.\u001b[0m\u001b[0mclasses_\u001b[0m \u001b[0;34m=\u001b[0m \u001b[0munique_labels\u001b[0m\u001b[0;34m(\u001b[0m\u001b[0my\u001b[0m\u001b[0;34m)\u001b[0m\u001b[0;34m\u001b[0m\u001b[0;34m\u001b[0m\u001b[0m\n\u001b[1;32m    431\u001b[0m         \u001b[0mn_samples\u001b[0m\u001b[0;34m,\u001b[0m \u001b[0m_\u001b[0m \u001b[0;34m=\u001b[0m \u001b[0mX\u001b[0m\u001b[0;34m.\u001b[0m\u001b[0mshape\u001b[0m\u001b[0;34m\u001b[0m\u001b[0;34m\u001b[0m\u001b[0m\n",
      "\u001b[0;32m/usr/local/lib/python3.7/site-packages/sklearn/utils/validation.py\u001b[0m in \u001b[0;36mcheck_X_y\u001b[0;34m(X, y, accept_sparse, accept_large_sparse, dtype, order, copy, force_all_finite, ensure_2d, allow_nd, multi_output, ensure_min_samples, ensure_min_features, y_numeric, warn_on_dtype, estimator)\u001b[0m\n\u001b[1;32m    754\u001b[0m                     \u001b[0mensure_min_features\u001b[0m\u001b[0;34m=\u001b[0m\u001b[0mensure_min_features\u001b[0m\u001b[0;34m,\u001b[0m\u001b[0;34m\u001b[0m\u001b[0;34m\u001b[0m\u001b[0m\n\u001b[1;32m    755\u001b[0m                     \u001b[0mwarn_on_dtype\u001b[0m\u001b[0;34m=\u001b[0m\u001b[0mwarn_on_dtype\u001b[0m\u001b[0;34m,\u001b[0m\u001b[0;34m\u001b[0m\u001b[0;34m\u001b[0m\u001b[0m\n\u001b[0;32m--> 756\u001b[0;31m                     estimator=estimator)\n\u001b[0m\u001b[1;32m    757\u001b[0m     \u001b[0;32mif\u001b[0m \u001b[0mmulti_output\u001b[0m\u001b[0;34m:\u001b[0m\u001b[0;34m\u001b[0m\u001b[0;34m\u001b[0m\u001b[0m\n\u001b[1;32m    758\u001b[0m         y = check_array(y, 'csr', force_all_finite=True, ensure_2d=False,\n",
      "\u001b[0;32m/usr/local/lib/python3.7/site-packages/sklearn/utils/validation.py\u001b[0m in \u001b[0;36mcheck_array\u001b[0;34m(array, accept_sparse, accept_large_sparse, dtype, order, copy, force_all_finite, ensure_2d, allow_nd, ensure_min_samples, ensure_min_features, warn_on_dtype, estimator)\u001b[0m\n\u001b[1;32m    571\u001b[0m         \u001b[0;32mif\u001b[0m \u001b[0mforce_all_finite\u001b[0m\u001b[0;34m:\u001b[0m\u001b[0;34m\u001b[0m\u001b[0;34m\u001b[0m\u001b[0m\n\u001b[1;32m    572\u001b[0m             _assert_all_finite(array,\n\u001b[0;32m--> 573\u001b[0;31m                                allow_nan=force_all_finite == 'allow-nan')\n\u001b[0m\u001b[1;32m    574\u001b[0m \u001b[0;34m\u001b[0m\u001b[0m\n\u001b[1;32m    575\u001b[0m     \u001b[0mshape_repr\u001b[0m \u001b[0;34m=\u001b[0m \u001b[0m_shape_repr\u001b[0m\u001b[0;34m(\u001b[0m\u001b[0marray\u001b[0m\u001b[0;34m.\u001b[0m\u001b[0mshape\u001b[0m\u001b[0;34m)\u001b[0m\u001b[0;34m\u001b[0m\u001b[0;34m\u001b[0m\u001b[0m\n",
      "\u001b[0;32m/usr/local/lib/python3.7/site-packages/sklearn/utils/validation.py\u001b[0m in \u001b[0;36m_assert_all_finite\u001b[0;34m(X, allow_nan)\u001b[0m\n\u001b[1;32m     54\u001b[0m                 not allow_nan and not np.isfinite(X).all()):\n\u001b[1;32m     55\u001b[0m             \u001b[0mtype_err\u001b[0m \u001b[0;34m=\u001b[0m \u001b[0;34m'infinity'\u001b[0m \u001b[0;32mif\u001b[0m \u001b[0mallow_nan\u001b[0m \u001b[0;32melse\u001b[0m \u001b[0;34m'NaN, infinity'\u001b[0m\u001b[0;34m\u001b[0m\u001b[0;34m\u001b[0m\u001b[0m\n\u001b[0;32m---> 56\u001b[0;31m             \u001b[0;32mraise\u001b[0m \u001b[0mValueError\u001b[0m\u001b[0;34m(\u001b[0m\u001b[0mmsg_err\u001b[0m\u001b[0;34m.\u001b[0m\u001b[0mformat\u001b[0m\u001b[0;34m(\u001b[0m\u001b[0mtype_err\u001b[0m\u001b[0;34m,\u001b[0m \u001b[0mX\u001b[0m\u001b[0;34m.\u001b[0m\u001b[0mdtype\u001b[0m\u001b[0;34m)\u001b[0m\u001b[0;34m)\u001b[0m\u001b[0;34m\u001b[0m\u001b[0;34m\u001b[0m\u001b[0m\n\u001b[0m\u001b[1;32m     57\u001b[0m \u001b[0;34m\u001b[0m\u001b[0m\n\u001b[1;32m     58\u001b[0m \u001b[0;34m\u001b[0m\u001b[0m\n",
      "\u001b[0;31mValueError\u001b[0m: Input contains NaN, infinity or a value too large for dtype('float64')."
     ]
    }
   ],
   "source": [
    "p = plot_author_pair(df_all[df_all.author.isin(list(pair) + ['Satoshi'])], value = 'chisq',  wrt_authors = pair)\n",
    "print(p)\n",
    "\n",
    "p = plot_LDA(df_all[df_all.author.isin(list(pair) + ['Satoshi'])], value = 'chisq',  wrt_authors = pair)\n",
    "print(p)"
   ]
  },
  {
   "cell_type": "code",
   "execution_count": null,
   "metadata": {},
   "outputs": [],
   "source": []
  }
 ],
 "metadata": {
  "kernelspec": {
   "display_name": "Python 3",
   "language": "python",
   "name": "python3"
  },
  "language_info": {
   "codemirror_mode": {
    "name": "ipython",
    "version": 3
   },
   "file_extension": ".py",
   "mimetype": "text/x-python",
   "name": "python",
   "nbconvert_exporter": "python",
   "pygments_lexer": "ipython3",
   "version": "3.7.3"
  }
 },
 "nbformat": 4,
 "nbformat_minor": 2
}
