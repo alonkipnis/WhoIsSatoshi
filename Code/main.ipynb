{
 "cells": [
  {
   "cell_type": "markdown",
   "metadata": {},
   "source": [
    "To DO: \n",
    "- Consider lemmatizing using Stanford lemmatizer\n",
    "- Understand how to get 'Satoshi Words' in an unbiased manner\n",
    "- Methodology: reduce to list of descriminiating words. \n",
    "- See if can get good chisq p-vals (perhaps chisq is biased on this set)\n"
   ]
  },
  {
   "cell_type": "code",
   "execution_count": 1,
   "metadata": {},
   "outputs": [],
   "source": [
    "%load_ext autoreload\n",
    "import os\n",
    "import re\n",
    "import pandas as pd\n",
    "from tqdm import tqdm\n",
    "\n",
    "import sys\n",
    "sys.path.append('/Users/kipnisal/Documents/Authorship/')\n",
    "\n",
    "from AuthAttLib import *\n",
    "from visualize_HC_scores import *\n",
    "\n",
    "import pickle\n",
    "\n",
    "from load_data import *\n",
    "from text_processing import html_to_text\n",
    "from utils import frequent_words_tfidf"
   ]
  },
  {
   "cell_type": "markdown",
   "metadata": {},
   "source": [
    "<H2> Preprocess Data</H2>\n",
    "<ul>\n",
    "<li> Read all articles from Data directory\n",
    "<li> Run only if added more articles\n",
    "<li> Otherwise use pre-processed version 'data_proc.csv'\n",
    "</ul>"
   ]
  },
  {
   "cell_type": "code",
   "execution_count": 21,
   "metadata": {},
   "outputs": [],
   "source": [
    "# optional: remove proper names, cardinal digits, and punctuation\n",
    "from text_processing import remove_parts_of_speach\n",
    "\n",
    "def text_proc_loc(text) :\n",
    "    return remove_parts_of_speach(text, to_remove = ['NNP', 'NNPS', 'CD', 'FW',\n",
    "                                                    #'NN', 'NNS', \n",
    "                                                    ])\n",
    "\n",
    "def lemmatize_list(list_of_words) :\n",
    "    ls = remove_parts_of_speach(\" \".join(list_of_words), to_remove=[]).split()\n",
    "    return pd.DataFrame(ls).drop_duplicates().iloc[:,0].tolist()\n",
    "\n",
    "def remove_digits(text) :\n",
    "    return re.sub(\"[0-9]\", \"\", text)\n",
    "\n",
    "def remove_punct(text) :\n",
    "    punct = [':',';','\"','(',')','-',',','.','`','\\`','%','&','?','!']\n",
    "    return re.sub(\"[0-9]\", \" \", text)\n"
   ]
  },
  {
   "cell_type": "code",
   "execution_count": 48,
   "metadata": {},
   "outputs": [
    {
     "name": "stderr",
     "output_type": "stream",
     "text": [
      "100%|██████████| 23/23 [01:55<00:00,  7.17s/it]\n"
     ]
    }
   ],
   "source": [
    "data_proc = load_data(\"../Data/\")\n",
    "    \n",
    "data_proc.text = data_proc.text.astype(str).apply(text_proc_loc).apply(cleanhtml)\n",
    "data_proc.to_csv('../Data/data_proc.csv')"
   ]
  },
  {
   "cell_type": "markdown",
   "metadata": {},
   "source": [
    "<H2>Arrange Data</H2>"
   ]
  },
  {
   "cell_type": "code",
   "execution_count": 49,
   "metadata": {},
   "outputs": [],
   "source": [
    "INCLUDE_TECHNICAL = False\n",
    "#arrange Staoshi's documents by topics\n",
    "data_proc = pd.read_csv('../Data/data_proc.csv')\n",
    "\n",
    "data_proc = data_proc[data_proc['type'].isin(['academic', 'book'])]\n",
    "\n",
    "# aggreagte emails and technical forum posts\n",
    "satoshi_emails = data_proc[(data_proc.author == 'Satoshi') # merge all Staoshi's emails\n",
    "                         & (data_proc['type'] == 'email')].text.astype(str).agg(sum)\n",
    "satoshi_forum = data_proc[(data_proc.author == 'Satoshi') # merge all Staoshi's forum posts\n",
    "                          & (data_proc['type'] == 'technical (forum)')].text.astype(str).agg(sum)\n",
    "\n",
    "data_proc = data_proc[~((data_proc.author == 'Satoshi') # merge all Staoshi's forum posts\n",
    "                          & data_proc['type'].isin(['technical (forum)', 'email']))]\n",
    "\n",
    "if INCLUDE_TECHNICAL :\n",
    "    data_proc = data_proc.append({'doc_id' : 'Satoshi_emails',\n",
    "                    'text' : satoshi_emails,\n",
    "                    'author' : 'Satoshi',\n",
    "                    'type' : 'emails'}, ignore_index = True)\n",
    "    data_proc = data_proc.append({'doc_id' : 'Satoshi_forum',\n",
    "                    'text' : satoshi_forum,\n",
    "                    'author' : 'Satoshi',\n",
    "                    'type' : 'technical (forum)'},ignore_index = True)"
   ]
  },
  {
   "cell_type": "markdown",
   "metadata": {},
   "source": [
    "<H2>Using preset Dictionaries</H2>"
   ]
  },
  {
   "cell_type": "code",
   "execution_count": 50,
   "metadata": {},
   "outputs": [],
   "source": [
    "function_words1 =  ['a','as','do','has','is','no','or','than','this','when',\n",
    "  'all','at','down','have','it','not','our','that','to','which',\n",
    "  'also','be','even','her','its','now','shall','the','up','who',\n",
    "  'an','been','every','his','may','of','should','their','upon','will',\n",
    "  'and','but','for','if','more','on','so','then','was','with',\n",
    "  'any','by','from','in','must','one','some','there','were','would',\n",
    "  'are','can','had','into','my','only','such','thing','what','your', ]\n",
    "\n",
    "# two list of additional words used by Mosteller & Wallace\n",
    "additional_words1 = ['affect','city','direction','innovation','perhaps','vigor',\n",
    "                    'again','commonly','disgracing','join','rapid','violate','although',\n",
    "                    'consequently','either','language','sarne','violence','among','considerable',\n",
    "                     'consider', 'enough','most','second','voice','another','contribute','nor','still',\n",
    "                    'where','because','defensive','fortune','offensive','those','whether',\n",
    "                    'between','destruction','often','throughout', 'while','both','provide', \n",
    "                    'did','himself','pass','under','whilst', 'preclude', 'note', 'additional', 'reveal']\n",
    "\n",
    "additional_words2 = ['about','choice','proper','according','common','kind','propriety','adversaries',\n",
    "                    'danger','large','provision','after','decide','decides','decided','deciding',\n",
    "                    'likely','requiisite','aid','degree','matters','matter','substance','always',\n",
    "                    'during','moreover','they','apt','expence','necessary','though',\n",
    "                    'asserted','expenses','expense','necessity','necessities','truth','truths',\n",
    "                    'before','extent','others','us','being','follows','follow','particularly',\n",
    "                    'usages','usage','better','I','principle','we','care','imagine','edit','editing']\n",
    "\n",
    "web_words = ['https', 'typekit','subset_id','cid', 'fvd','af', 'opentype','woff','tk', 'http',\n",
    "             'sinc','www','site','mso','com','af','font','src','url','proxima','color','microsoft',\n",
    "             'body', 'sans','%','ded','fb', 'php',' ', 'badb','fdb','fa', 'table', 'nav', 'linux',\n",
    "             'div', 'saved', 'unix', 'text', 'xi', 'ad', 'pp', 'a', 'px', 'db', 'var','re', 'environment',\n",
    "             'width', 'height', 'align', 'left', 'rel', 'nofollow', 'rel','viewbox', 'version', 'path', \n",
    "             'fill','radius', 'noopener', 'noreferrer', 'image', 'file', 'truncate', 'target', '_blank',\n",
    "             'nova', 'border', 'st1' ,'vwh', 'item', 'link', 'border', 'left',\n",
    "             'img', 'normal', 'edge', 'lh', 'style', 'family', 'content', 'castronova', 'buttonize','net',\n",
    "             'th','kudo','activate','figure', 'pro','tree', 'user','disk','href', 'quot', 'org', 'meta',\n",
    "             'js', 'doe', 'online', 'address', 'click', 'aria', 'line', 'title', 'css', 'nbsp', 'yes',\n",
    "            'br', 'flex', 'script', 'td', 'ninja', 'wp', 'letter', 'password', 'span','class','li','lib',\n",
    "             'le', 'face', 'format', 'weight', 'web', 'en', 'est', 'co', 'function','don', 'hr', \n",
    "            'que', 'tu', 'ça', 'au', 'ai', 've', 'te', 'si', 'ca', 'sa'\n",
    "            ]\n",
    "\n",
    "             \n",
    "names = ['hal', 'san','craig','wright','satoshi','vili','lehdonvirta',\n",
    "        'bick', 'szabo', 'kleiman', 'gavinandresen', 'gavin', 'andresen', 'adi',\n",
    "        'shamir', 'david', 'claude', 'shannon', 'elon', 'musk', 'thomas', 'meyer',\n",
    "         'einstein'\n",
    "        ]\n",
    "               \n",
    "jargon = ['bitcoin', 'homomorphic', 'pornography', 'syngress', 'fingerprint', 'chapter',\n",
    "          'forensic', 'forensic', 'cryptographic', 'address', 'ciphertext',\n",
    "          'compromised', 'contractual', 'polynomial', 'investigative', 'electronic', 'double',\n",
    "          'public', 'verify', 'trusted','generate', 'honest', 'github', 'bitcoinxt', 'computer',\n",
    "         'digital', 'control', 'work', 'private', 'virtual', 'key'\n",
    "         ] \n",
    "\n",
    "punct = [':',';','\"','(',')','-',',','.','`','\\`','%','&','?','!']\n",
    "\n",
    "function_words = lemmatize_list(function_words1 + additional_words1 + additional_words2)\n",
    "\n",
    "Satoshi_function_words = ['or', 'this', 'it', 'to', 'the', 'up', 'his', 'may', 'of', 'and',\n",
    "        'if', 'by', 'in', 'one', 'were', 'would', 'enough', 'still',\n",
    "        'while', 'himself', 'after', 'they', 'before', 'care', 'work']\n",
    "\n",
    "Satoshi_words = ['to', 'and', 'in', 'it', 'or', 'by', 'you', 'each', 'new', 'need',\n",
    "        'he', 'them', 'need to', 'without', 'the ha', 'after', 'long',\n",
    "        'still', 'work', 'next', 'get', 'in it', 'to make', 'it to',\n",
    "        'back', 'previous', 'until', 'the next', 'enough', 'change',\n",
    "        'added', 'working', 'the previous', 'control', 'ever', 'to get',\n",
    "        'accepted', 'accept', 'page', 'receive', 'containing', 'they were']"
   ]
  },
  {
   "cell_type": "code",
   "execution_count": 25,
   "metadata": {},
   "outputs": [],
   "source": [
    "#load preset vocabulary\n",
    "from text_processing import *\n",
    "vocab5000_df = pd.read_csv('~/Data/5000 most common english words.csv')\n",
    "vocab5000 = lemmatize_list(vocab5000_df.Word) # to remove dublicate terms\n",
    "\n",
    "vocab_tfidf = list(frequent_words_tfidf(data_proc.text, ngram_range = (1,3),\n",
    "                                   no_words= 1500,\n",
    "                                   words_to_ignore = punct + web_words + names + punct + jargon\n",
    "                                  ))\n"
   ]
  },
  {
   "cell_type": "code",
   "execution_count": 51,
   "metadata": {},
   "outputs": [
    {
     "name": "stdout",
     "output_type": "stream",
     "text": [
      "\t Creating author-model for Dan Boneh using 171 features...\n",
      "\t\tfound 4 documents and 5847 relevant tokens.\n",
      "\t Creating author-model for Adam Back using 171 features...\n",
      "\t\tfound 2 documents and 1169 relevant tokens.\n",
      "\t Creating author-model for Wright-Kleiman using 171 features...\n",
      "\t\tfound 1 documents and 2413 relevant tokens.\n",
      "\t Creating author-model for Vili Lehdonvirta using 171 features...\n",
      "\t\tfound 8 documents and 41663 relevant tokens.\n",
      "\t Creating author-model for Crypto Collection using 171 features...\n",
      "\t\tfound 3 documents and 10145 relevant tokens.\n",
      "\t Creating author-model for Satoshi using 171 features...\n",
      "\t\tfound 1 documents and 1421 relevant tokens.\n",
      "\t Creating author-model for Michael Clear using 171 features...\n",
      "\t\tfound 1 documents and 13613 relevant tokens.\n",
      "\t Creating author-model for Nick Szabo using 171 features...\n",
      "\t\tfound 5 documents and 12235 relevant tokens.\n",
      "\t Creating author-model for Claude Shannon using 171 features...\n",
      "\t\tfound 2 documents and 20038 relevant tokens.\n",
      "\t Creating author-model for Adi Shamir using 171 features...\n",
      "\t\tfound 4 documents and 7090 relevant tokens.\n",
      "\t Creating author-model for Craig Wright using 171 features...\n",
      "\t\tfound 4 documents and 9086 relevant tokens.\n",
      "\t Creating author-model for David Mazieres using 171 features...\n",
      "\t\tfound 3 documents and 10969 relevant tokens.\n",
      "\t Creating author-model for David Kleiman using 171 features...\n"
     ]
    },
    {
     "name": "stderr",
     "output_type": "stream",
     "text": [
      "\r",
      "  0%|          | 0/14 [00:00<?, ?it/s]"
     ]
    },
    {
     "name": "stdout",
     "output_type": "stream",
     "text": [
      "\t\tfound 1 documents and 101223 relevant tokens.\n",
      "\t Creating author-model for Albert Einstein using 171 features...\n",
      "\t\tfound 4 documents and 23067 relevant tokens.\n"
     ]
    },
    {
     "name": "stderr",
     "output_type": "stream",
     "text": [
      " 14%|█▍        | 2/14 [00:01<00:09,  1.22it/s]/Users/kipnisal/Documents/Authorship/utils.py:34: RuntimeWarning: divide by zero encountered in log\n",
      "  return chisq - dof, np.log(pval)\n",
      "100%|██████████| 14/14 [00:07<00:00,  1.61it/s]\n",
      "/usr/local/lib/python3.7/site-packages/pandas/core/indexing.py:543: SettingWithCopyWarning: \n",
      "A value is trying to be set on a copy of a slice from a DataFrame.\n",
      "Try using .loc[row_indexer,col_indexer] = value instead\n",
      "\n",
      "See the caveats in the documentation: http://pandas.pydata.org/pandas-docs/stable/indexing.html#indexing-view-versus-copy\n",
      "  self.obj[item] = s\n"
     ]
    }
   ],
   "source": [
    "#train model\n",
    "\n",
    "ds = data_proc\n",
    "ds = ds[~ds['type'].isin(['technical (forum)','email'])]\n",
    "#ds = ds[~((ds.author == 'Satoshi') & (ds.type.isin(['emails', 'technical (forum)'])))]\n",
    "ds = ds.filter(['doc_id','text','author','type'])\n",
    "\n",
    "ds = ds.dropna()\n",
    "\n",
    "VOCAB_SIZE = 1500\n",
    "NG_RANGE = (1,3)\n",
    "\n",
    "model = AuthorshipAttributionMulti(ds,\n",
    "                               vocab = function_words,\n",
    "                              #vocab_size = VOCAB_SIZE,\n",
    "                              ngram_range = NG_RANGE,\n",
    "                            words_to_ignore = punct + web_words + names + punct + jargon,\n",
    "                              stbl = True,\n",
    "                                  flat=True)\n",
    "vocab_size = len(model._vocab)\n",
    "#desc = \"external_data\"\n",
    "\n",
    "# get results wrt Satoshi:\n",
    "df0 = model.internal_stats_corpus()\n",
    "df_satoshi = df0[(df0.author == 'Satoshi') | (df0.wrt_author == 'Satoshi')]\n",
    "df_satoshi.loc[df_satoshi.author == 'Satoshi', 'author'] = df_satoshi.loc[df_satoshi.author == 'Satoshi','wrt_author']\n",
    "df_satoshi.loc[:,'wrt_author'] = 'Satoshi'"
   ]
  },
  {
   "cell_type": "code",
   "execution_count": 52,
   "metadata": {},
   "outputs": [],
   "source": [
    "description = \"w{}_most_common_ng_remove_NN_web_remove\".format(len(model._vocab))\n",
    "description = \"w{}_tfidf_ng\".format(len(model._vocab))\n",
    "description = \"function_words\""
   ]
  },
  {
   "cell_type": "code",
   "execution_count": 53,
   "metadata": {},
   "outputs": [
    {
     "name": "stderr",
     "output_type": "stream",
     "text": [
      "100%|██████████| 14/14 [00:07<00:00,  1.45it/s]\n"
     ]
    },
    {
     "data": {
      "text/html": [
       "<div>\n",
       "<style scoped>\n",
       "    .dataframe tbody tr th:only-of-type {\n",
       "        vertical-align: middle;\n",
       "    }\n",
       "\n",
       "    .dataframe tbody tr th {\n",
       "        vertical-align: top;\n",
       "    }\n",
       "\n",
       "    .dataframe thead th {\n",
       "        text-align: right;\n",
       "    }\n",
       "</style>\n",
       "<table border=\"1\" class=\"dataframe\">\n",
       "  <thead>\n",
       "    <tr style=\"text-align: right;\">\n",
       "      <th></th>\n",
       "      <th>HC</th>\n",
       "      <th>HC_rank</th>\n",
       "      <th>author</th>\n",
       "      <th>chisq</th>\n",
       "      <th>chisq_pval</th>\n",
       "      <th>cosine</th>\n",
       "      <th>feat</th>\n",
       "      <th>no_docs (author)</th>\n",
       "      <th>no_docs (wrt_author)</th>\n",
       "      <th>no_tokens (author)</th>\n",
       "      <th>wrt_author</th>\n",
       "    </tr>\n",
       "  </thead>\n",
       "  <tbody>\n",
       "    <tr>\n",
       "      <th>71</th>\n",
       "      <td>3.673909</td>\n",
       "      <td>0.5</td>\n",
       "      <td>David Mazieres</td>\n",
       "      <td>186.272322</td>\n",
       "      <td>-38.578213</td>\n",
       "      <td>0.027792</td>\n",
       "      <td>[a, or, our, to, which, be, the, up, his, may,...</td>\n",
       "      <td>1.0</td>\n",
       "      <td>1.0</td>\n",
       "      <td>1421.0</td>\n",
       "      <td>Satoshi</td>\n",
       "    </tr>\n",
       "    <tr>\n",
       "      <th>11</th>\n",
       "      <td>3.856491</td>\n",
       "      <td>0.5</td>\n",
       "      <td>Adam Back</td>\n",
       "      <td>125.370119</td>\n",
       "      <td>-25.186319</td>\n",
       "      <td>0.028950</td>\n",
       "      <td>[is, all, it, our, that, to, which, up, every,...</td>\n",
       "      <td>1.0</td>\n",
       "      <td>1.0</td>\n",
       "      <td>1421.0</td>\n",
       "      <td>Satoshi</td>\n",
       "    </tr>\n",
       "    <tr>\n",
       "      <th>84</th>\n",
       "      <td>4.422782</td>\n",
       "      <td>0.5</td>\n",
       "      <td>Albert Einstein</td>\n",
       "      <td>411.797389</td>\n",
       "      <td>-113.392309</td>\n",
       "      <td>0.051400</td>\n",
       "      <td>[a, than, this, it, to, which, be, up, an, of,...</td>\n",
       "      <td>1.0</td>\n",
       "      <td>1.0</td>\n",
       "      <td>1421.0</td>\n",
       "      <td>Satoshi</td>\n",
       "    </tr>\n",
       "    <tr>\n",
       "      <th>64</th>\n",
       "      <td>4.585410</td>\n",
       "      <td>0.5</td>\n",
       "      <td>Craig Wright</td>\n",
       "      <td>270.223584</td>\n",
       "      <td>-66.463472</td>\n",
       "      <td>0.019627</td>\n",
       "      <td>[or, this, it, that, up, every, his, but, if, ...</td>\n",
       "      <td>1.0</td>\n",
       "      <td>1.0</td>\n",
       "      <td>1421.0</td>\n",
       "      <td>Satoshi</td>\n",
       "    </tr>\n",
       "    <tr>\n",
       "      <th>29</th>\n",
       "      <td>4.600586</td>\n",
       "      <td>0.5</td>\n",
       "      <td>Wright-Kleiman</td>\n",
       "      <td>204.063695</td>\n",
       "      <td>-48.092436</td>\n",
       "      <td>0.034275</td>\n",
       "      <td>[a, is, or, this, it, our, that, to, be, even,...</td>\n",
       "      <td>1.0</td>\n",
       "      <td>1.0</td>\n",
       "      <td>2413.0</td>\n",
       "      <td>Satoshi</td>\n",
       "    </tr>\n",
       "    <tr>\n",
       "      <th>76</th>\n",
       "      <td>4.761433</td>\n",
       "      <td>0.5</td>\n",
       "      <td>David Kleiman</td>\n",
       "      <td>409.621384</td>\n",
       "      <td>-108.697708</td>\n",
       "      <td>0.029463</td>\n",
       "      <td>[a, or, than, this, it, not, our, to, also, th...</td>\n",
       "      <td>1.0</td>\n",
       "      <td>1.0</td>\n",
       "      <td>1421.0</td>\n",
       "      <td>Satoshi</td>\n",
       "    </tr>\n",
       "    <tr>\n",
       "      <th>37</th>\n",
       "      <td>4.899704</td>\n",
       "      <td>0.5</td>\n",
       "      <td>Nick Szabo</td>\n",
       "      <td>243.199247</td>\n",
       "      <td>-55.495629</td>\n",
       "      <td>0.030219</td>\n",
       "      <td>[a, or, this, all, it, to, which, the, up, an,...</td>\n",
       "      <td>1.0</td>\n",
       "      <td>1.0</td>\n",
       "      <td>1421.0</td>\n",
       "      <td>Satoshi</td>\n",
       "    </tr>\n",
       "    <tr>\n",
       "      <th>30</th>\n",
       "      <td>5.092812</td>\n",
       "      <td>0.5</td>\n",
       "      <td>Vili Lehdonvirta</td>\n",
       "      <td>477.711933</td>\n",
       "      <td>-136.079644</td>\n",
       "      <td>0.050808</td>\n",
       "      <td>[or, this, all, it, to, also, be, the, up, eve...</td>\n",
       "      <td>1.0</td>\n",
       "      <td>1.0</td>\n",
       "      <td>41663.0</td>\n",
       "      <td>Satoshi</td>\n",
       "    </tr>\n",
       "    <tr>\n",
       "      <th>42</th>\n",
       "      <td>5.253215</td>\n",
       "      <td>0.5</td>\n",
       "      <td>Claude Shannon</td>\n",
       "      <td>474.777985</td>\n",
       "      <td>-143.310226</td>\n",
       "      <td>0.040412</td>\n",
       "      <td>[do, is, this, it, to, which, up, who, an, eve...</td>\n",
       "      <td>1.0</td>\n",
       "      <td>1.0</td>\n",
       "      <td>1421.0</td>\n",
       "      <td>Satoshi</td>\n",
       "    </tr>\n",
       "    <tr>\n",
       "      <th>2</th>\n",
       "      <td>5.297894</td>\n",
       "      <td>0.5</td>\n",
       "      <td>Dan Boneh</td>\n",
       "      <td>230.701941</td>\n",
       "      <td>-54.638281</td>\n",
       "      <td>0.027068</td>\n",
       "      <td>[is, this, it, our, that, to, up, every, his, ...</td>\n",
       "      <td>1.0</td>\n",
       "      <td>1.0</td>\n",
       "      <td>1421.0</td>\n",
       "      <td>Satoshi</td>\n",
       "    </tr>\n",
       "    <tr>\n",
       "      <th>52</th>\n",
       "      <td>5.879576</td>\n",
       "      <td>0.5</td>\n",
       "      <td>Adi Shamir</td>\n",
       "      <td>352.954171</td>\n",
       "      <td>-99.201591</td>\n",
       "      <td>0.055883</td>\n",
       "      <td>[a, ha, is, this, it, not, that, to, which, be...</td>\n",
       "      <td>1.0</td>\n",
       "      <td>1.0</td>\n",
       "      <td>1421.0</td>\n",
       "      <td>Satoshi</td>\n",
       "    </tr>\n",
       "    <tr>\n",
       "      <th>33</th>\n",
       "      <td>6.449393</td>\n",
       "      <td>0.5</td>\n",
       "      <td>Michael Clear</td>\n",
       "      <td>552.157850</td>\n",
       "      <td>-173.214127</td>\n",
       "      <td>0.048814</td>\n",
       "      <td>[a, is, or, than, this, it, not, our, that, to...</td>\n",
       "      <td>1.0</td>\n",
       "      <td>1.0</td>\n",
       "      <td>1421.0</td>\n",
       "      <td>Satoshi</td>\n",
       "    </tr>\n",
       "    <tr>\n",
       "      <th>24</th>\n",
       "      <td>7.041379</td>\n",
       "      <td>0.5</td>\n",
       "      <td>Crypto Collection</td>\n",
       "      <td>621.132450</td>\n",
       "      <td>-206.437299</td>\n",
       "      <td>0.084658</td>\n",
       "      <td>[do, is, than, this, have, it, not, that, to, ...</td>\n",
       "      <td>1.0</td>\n",
       "      <td>1.0</td>\n",
       "      <td>1421.0</td>\n",
       "      <td>Satoshi</td>\n",
       "    </tr>\n",
       "  </tbody>\n",
       "</table>\n",
       "</div>"
      ],
      "text/plain": [
       "          HC  HC_rank             author       chisq  chisq_pval    cosine  \\\n",
       "71  3.673909      0.5     David Mazieres  186.272322  -38.578213  0.027792   \n",
       "11  3.856491      0.5          Adam Back  125.370119  -25.186319  0.028950   \n",
       "84  4.422782      0.5    Albert Einstein  411.797389 -113.392309  0.051400   \n",
       "64  4.585410      0.5       Craig Wright  270.223584  -66.463472  0.019627   \n",
       "29  4.600586      0.5     Wright-Kleiman  204.063695  -48.092436  0.034275   \n",
       "76  4.761433      0.5      David Kleiman  409.621384 -108.697708  0.029463   \n",
       "37  4.899704      0.5         Nick Szabo  243.199247  -55.495629  0.030219   \n",
       "30  5.092812      0.5   Vili Lehdonvirta  477.711933 -136.079644  0.050808   \n",
       "42  5.253215      0.5     Claude Shannon  474.777985 -143.310226  0.040412   \n",
       "2   5.297894      0.5          Dan Boneh  230.701941  -54.638281  0.027068   \n",
       "52  5.879576      0.5         Adi Shamir  352.954171  -99.201591  0.055883   \n",
       "33  6.449393      0.5      Michael Clear  552.157850 -173.214127  0.048814   \n",
       "24  7.041379      0.5  Crypto Collection  621.132450 -206.437299  0.084658   \n",
       "\n",
       "                                                 feat  no_docs (author)  \\\n",
       "71  [a, or, our, to, which, be, the, up, his, may,...               1.0   \n",
       "11  [is, all, it, our, that, to, which, up, every,...               1.0   \n",
       "84  [a, than, this, it, to, which, be, up, an, of,...               1.0   \n",
       "64  [or, this, it, that, up, every, his, but, if, ...               1.0   \n",
       "29  [a, is, or, this, it, our, that, to, be, even,...               1.0   \n",
       "76  [a, or, than, this, it, not, our, to, also, th...               1.0   \n",
       "37  [a, or, this, all, it, to, which, the, up, an,...               1.0   \n",
       "30  [or, this, all, it, to, also, be, the, up, eve...               1.0   \n",
       "42  [do, is, this, it, to, which, up, who, an, eve...               1.0   \n",
       "2   [is, this, it, our, that, to, up, every, his, ...               1.0   \n",
       "52  [a, ha, is, this, it, not, that, to, which, be...               1.0   \n",
       "33  [a, is, or, than, this, it, not, our, that, to...               1.0   \n",
       "24  [do, is, than, this, have, it, not, that, to, ...               1.0   \n",
       "\n",
       "    no_docs (wrt_author)  no_tokens (author) wrt_author  \n",
       "71                   1.0              1421.0    Satoshi  \n",
       "11                   1.0              1421.0    Satoshi  \n",
       "84                   1.0              1421.0    Satoshi  \n",
       "64                   1.0              1421.0    Satoshi  \n",
       "29                   1.0              2413.0    Satoshi  \n",
       "76                   1.0              1421.0    Satoshi  \n",
       "37                   1.0              1421.0    Satoshi  \n",
       "30                   1.0             41663.0    Satoshi  \n",
       "42                   1.0              1421.0    Satoshi  \n",
       "2                    1.0              1421.0    Satoshi  \n",
       "52                   1.0              1421.0    Satoshi  \n",
       "33                   1.0              1421.0    Satoshi  \n",
       "24                   1.0              1421.0    Satoshi  "
      ]
     },
     "execution_count": 53,
     "metadata": {},
     "output_type": "execute_result"
    }
   ],
   "source": [
    "df0 = model.internal_stats_corpus()\n",
    "df_satoshi = df0[(df0.author == 'Satoshi') | (df0.wrt_author == 'Satoshi')]\n",
    "df_satoshi.loc[df_satoshi.author == 'Satoshi', 'author'] =\\\n",
    "                df_satoshi.loc[df_satoshi.author == 'Satoshi','wrt_author']\n",
    "df_satoshi.loc[:,'wrt_author'] = 'Satoshi'\n",
    "\n",
    "df_satoshi.loc[df_satoshi.HC.sort_values().index,:]"
   ]
  },
  {
   "cell_type": "code",
   "execution_count": 54,
   "metadata": {},
   "outputs": [
    {
     "data": {
      "image/png": "[encoded data removed]",
      "text/plain": [
       "<Figure size 640x480 with 1 Axes>"
      ]
     },
     "metadata": {},
     "output_type": "display_data"
    },
    {
     "name": "stdout",
     "output_type": "stream",
     "text": [
      "<ggplot: (313792937)>\n"
     ]
    },
    {
     "name": "stderr",
     "output_type": "stream",
     "text": [
      "/usr/local/lib/python3.7/site-packages/plotnine/ggplot.py:706: UserWarning: Saving 13 x 4 in image.\n",
      "  from_inches(height, units), units))\n",
      "/usr/local/lib/python3.7/site-packages/plotnine/ggplot.py:707: UserWarning: Filename: HC_wrt_satoshi_function_words.png\n",
      "  warn('Filename: {}'.format(filename))\n"
     ]
    }
   ],
   "source": [
    "from plotnine import *\n",
    "import matplotlib.colors as mcolors\n",
    "\n",
    "path_to_figs = \"/Users/kipnisal/Dropbox/Apps/Overleaf/Who is Satoshi/Figs/\"\n",
    "path_to_figs = \"\"\n",
    "\n",
    "ix = df_satoshi.reset_index().sort_values('HC').index.tolist()\n",
    "\n",
    "p = (ggplot(aes(x = 'author', y = 'HC', fill = 'author'), data = df_satoshi) \n",
    "     + geom_col(show_legend = False) + theme(axis_text_x=element_text(rotation=90, hjust=1)) \n",
    "  #  + scale_x_discrete(limits=ix)\n",
    "     + coord_flip()\n",
    "    )\n",
    "print(p)\n",
    "p.save(path_to_figs + \"HC_wrt_satoshi_{}.png\".format(description),height = 4, width = 13)\n"
   ]
  },
  {
   "cell_type": "markdown",
   "metadata": {},
   "source": [
    "<H3>Load all data (including hidden files)</H3>"
   ]
  },
  {
   "cell_type": "code",
   "execution_count": null,
   "metadata": {},
   "outputs": [],
   "source": [
    "# get most freuqnect words from all data\n",
    "all_data = load_data(\"../Data/\", ignore_prefix = '')\n",
    "all_data_proc = all_data.copy()\n",
    "\n",
    "all_data_proc.loc[:,'text'] = all_data.text.astype(str).apply(text_proc_loc).apply(cleanhtml)\n",
    "\n",
    "vocab_all = n_most_frequent_words(all_data.text, n = 3000, ngram_range=(2,3),\n",
    "        words_to_ignore=punct + web_words + jargon\n",
    "                      )"
   ]
  },
  {
   "cell_type": "markdown",
   "metadata": {},
   "source": [
    "<H2>Model with some features removed</H2>"
   ]
  },
  {
   "cell_type": "code",
   "execution_count": 30,
   "metadata": {},
   "outputs": [
    {
     "name": "stderr",
     "output_type": "stream",
     "text": [
      "100%|██████████| 14/14 [00:04<00:00,  2.55it/s]\n"
     ]
    }
   ],
   "source": [
    "btc_paper = data_proc[data_proc.doc_id == 'Bitcoin_whitepaper.txt']\n",
    "#df_feat = model.get_discriminating_features(btc_paper.text.values[0])\n",
    "df_feat = model.test_against(btc_paper.text.values[0])"
   ]
  },
  {
   "cell_type": "code",
   "execution_count": 31,
   "metadata": {},
   "outputs": [
    {
     "data": {
      "text/plain": [
       "['or',\n",
       " 'this',\n",
       " 'it',\n",
       " 'to',\n",
       " 'up',\n",
       " 'his',\n",
       " 'and',\n",
       " 'by',\n",
       " 'in',\n",
       " 'one',\n",
       " 'would',\n",
       " 'enough',\n",
       " 'still',\n",
       " 'himself',\n",
       " 'after',\n",
       " 'they']"
      ]
     },
     "execution_count": 31,
     "metadata": {},
     "output_type": "execute_result"
    }
   ],
   "source": [
    "dfeat = df_feat[~df_feat.z.isna()].feat\n",
    "dfeat.tolist()"
   ]
  },
  {
   "cell_type": "code",
   "execution_count": 32,
   "metadata": {},
   "outputs": [
    {
     "name": "stdout",
     "output_type": "stream",
     "text": [
      "removed 16 features\n"
     ]
    }
   ],
   "source": [
    "new_vocab = [w for w in model._vocab if w not in dfeat.tolist()]\n",
    "print(\"removed {} features\".format(len(model._vocab) - len(new_vocab)))"
   ]
  },
  {
   "cell_type": "code",
   "execution_count": 33,
   "metadata": {},
   "outputs": [
    {
     "name": "stdout",
     "output_type": "stream",
     "text": [
      "\t Creating author-model for Dan Boneh using 155 features...\n",
      "\t\tfound 4 documents and 4476 relevant tokens.\n",
      "\t Creating author-model for Adam Back using 155 features...\n",
      "\t\tfound 1 documents and 104 relevant tokens.\n",
      "\t Creating author-model for Wright-Kleiman using 155 features...\n",
      "\t\tfound 1 documents and 1915 relevant tokens.\n",
      "\t Creating author-model for Vili Lehdonvirta using 155 features...\n",
      "\t\tfound 8 documents and 30289 relevant tokens.\n",
      "\t Creating author-model for Crypto Collection using 155 features...\n",
      "\t\tfound 3 documents and 7876 relevant tokens.\n",
      "\t Creating author-model for Satoshi using 155 features...\n",
      "\t\tfound 1 documents and 1046 relevant tokens.\n",
      "\t Creating author-model for Michael Clear using 155 features...\n",
      "\t\tfound 1 documents and 10835 relevant tokens.\n",
      "\t Creating author-model for Nick Szabo using 155 features...\n",
      "\t\tfound 5 documents and 9088 relevant tokens.\n",
      "\t Creating author-model for Claude Shannon using 155 features...\n",
      "\t\tfound 2 documents and 15900 relevant tokens.\n",
      "\t Creating author-model for Adi Shamir using 155 features...\n",
      "\t\tfound 4 documents and 5522 relevant tokens.\n",
      "\t Creating author-model for Craig Wright using 155 features...\n",
      "\t\tfound 4 documents and 6928 relevant tokens.\n",
      "\t Creating author-model for David Mazieres using 155 features...\n",
      "\t\tfound 3 documents and 8387 relevant tokens.\n",
      "\t Creating author-model for David Kleiman using 155 features...\n",
      "\t\tfound 1 documents and 73573 relevant tokens.\n",
      "\t Creating author-model for Albert Einstein using 155 features...\n"
     ]
    },
    {
     "name": "stderr",
     "output_type": "stream",
     "text": [
      "\r",
      "  0%|          | 0/14 [00:00<?, ?it/s]"
     ]
    },
    {
     "name": "stdout",
     "output_type": "stream",
     "text": [
      "\t\tfound 4 documents and 18058 relevant tokens.\n"
     ]
    },
    {
     "name": "stderr",
     "output_type": "stream",
     "text": [
      " 14%|█▍        | 2/14 [00:02<00:11,  1.05it/s]/Users/kipnisal/Documents/Authorship/utils.py:34: RuntimeWarning: divide by zero encountered in log\n",
      "  return chisq - dof, np.log(pval)\n",
      "100%|██████████| 14/14 [00:09<00:00,  1.04it/s]\n",
      "/usr/local/lib/python3.7/site-packages/pandas/core/indexing.py:543: SettingWithCopyWarning: \n",
      "A value is trying to be set on a copy of a slice from a DataFrame.\n",
      "Try using .loc[row_indexer,col_indexer] = value instead\n",
      "\n",
      "See the caveats in the documentation: http://pandas.pydata.org/pandas-docs/stable/indexing.html#indexing-view-versus-copy\n",
      "  self.obj[item] = s\n"
     ]
    }
   ],
   "source": [
    "#train model\n",
    "\n",
    "ds = data_proc\n",
    "ds = ds[~ds['type'].isin(['technical (forum)','email'])]\n",
    "#ds = ds[~((ds.author == 'Satoshi') & (ds.type.isin(['emails', 'technical (forum)'])))]\n",
    "ds = ds.filter(['doc_id','text','author','type'])\n",
    "\n",
    "ds = ds.dropna()\n",
    "\n",
    "model = AuthorshipAttributionMulti(ds,\n",
    "                               vocab = new_vocab,\n",
    "                              ngram_range = NG_RANGE,\n",
    "                              stbl = True)\n",
    "vocab_size = len(model._vocab)\n",
    "#desc = \"external_data\"\n",
    "\n",
    "# get results wrt Satoshi:\n",
    "df0 = model.internal_stats_corpus()\n",
    "df_satoshi = df0[(df0.author == 'Satoshi') | (df0.wrt_author == 'Satoshi')]\n",
    "df_satoshi.loc[df_satoshi.author == 'Satoshi', 'author'] = df_satoshi.loc[df_satoshi.author == 'Satoshi','wrt_author']\n",
    "df_satoshi.loc[:,'wrt_author'] = 'Satoshi'"
   ]
  },
  {
   "cell_type": "code",
   "execution_count": 89,
   "metadata": {},
   "outputs": [
    {
     "name": "stderr",
     "output_type": "stream",
     "text": [
      "100%|██████████| 18/18 [01:23<00:00,  7.44s/it]\n"
     ]
    }
   ],
   "source": [
    "df0 = model.internal_stats_corpus()\n",
    "df_satoshi = df0[(df0.author == 'Satoshi') | (df0.wrt_author == 'Satoshi')]\n",
    "df_satoshi.loc[df_satoshi.author == 'Satoshi', 'author'] =\\\n",
    "                df_satoshi.loc[df_satoshi.author == 'Satoshi','wrt_author']\n",
    "df_satoshi.loc[:,'wrt_author'] = 'Satoshi'\n"
   ]
  },
  {
   "cell_type": "code",
   "execution_count": 90,
   "metadata": {},
   "outputs": [],
   "source": [
    "description = \"w{}_most_common_ng_remove_NN_web_remove_Satoshi_words\".format(len(model._vocab))\n",
    "description = \"w{}_tfidf_ng_remove_Satoshi_words\".format(len(model._vocab))\n",
    "#description = \"function_words_remove_Satoshi_words\""
   ]
  },
  {
   "cell_type": "code",
   "execution_count": 91,
   "metadata": {},
   "outputs": [
    {
     "data": {
      "image/png": "[encoded data removed]",
      "text/plain": [
       "<Figure size 640x480 with 1 Axes>"
      ]
     },
     "metadata": {},
     "output_type": "display_data"
    },
    {
     "name": "stdout",
     "output_type": "stream",
     "text": [
      "<ggplot: (313985719)>\n"
     ]
    },
    {
     "name": "stderr",
     "output_type": "stream",
     "text": [
      "/usr/local/lib/python3.7/site-packages/plotnine/ggplot.py:706: UserWarning: Saving 13 x 4 in image.\n",
      "  from_inches(height, units), units))\n",
      "/usr/local/lib/python3.7/site-packages/plotnine/ggplot.py:707: UserWarning: Filename: /Users/kipnisal/Dropbox/Apps/Overleaf/Who is Satoshi/Figs/HC_wrt_satoshi_w1424_tfidf_ng_remove_Satoshi_words.png\n",
      "  warn('Filename: {}'.format(filename))\n"
     ]
    }
   ],
   "source": [
    "from plotnine import *\n",
    "import matplotlib.colors as mcolors\n",
    "\n",
    "path_to_figs = \"/Users/kipnisal/Dropbox/Apps/Overleaf/Who is Satoshi/Figs/\"\n",
    "\n",
    "ix = df_satoshi.reset_index().sort_values('HC').index.tolist()\n",
    "\n",
    "p = (ggplot(aes(x = 'author', y = 'HC', fill = 'author'), data = df_satoshi) \n",
    "     + geom_col(show_legend = False) + theme(axis_text_x=element_text(rotation=90, hjust=1)) \n",
    "  #  + scale_x_discrete(limits=ix)\n",
    "     + coord_flip()\n",
    "    )\n",
    "print(p)\n",
    "p.save(path_to_figs + \"HC_wrt_satoshi_{}.png\".format(description),height = 4, width = 13)\n"
   ]
  },
  {
   "cell_type": "markdown",
   "metadata": {},
   "source": [
    "<H2>Finalists</H2>"
   ]
  },
  {
   "cell_type": "code",
   "execution_count": 33,
   "metadata": {},
   "outputs": [
    {
     "name": "stderr",
     "output_type": "stream",
     "text": [
      "  0%|          | 0/1 [00:00<?, ?it/s]\n"
     ]
    },
    {
     "ename": "ValueError",
     "evalue": "seems like all counts are zero. Did you pass the wrong data format?",
     "output_type": "error",
     "traceback": [
      "\u001b[0;31m---------------------------------------------------------------------------\u001b[0m",
      "\u001b[0;31mValueError\u001b[0m                                Traceback (most recent call last)",
      "\u001b[0;32m<ipython-input-33-5294175d9ea6>\u001b[0m in \u001b[0;36m<module>\u001b[0;34m\u001b[0m\n\u001b[1;32m      1\u001b[0m \u001b[0;31m#scores wrt Satoshi\u001b[0m\u001b[0;34m\u001b[0m\u001b[0;34m\u001b[0m\u001b[0;34m\u001b[0m\u001b[0m\n\u001b[1;32m      2\u001b[0m \u001b[0mfinalists\u001b[0m \u001b[0;34m=\u001b[0m \u001b[0;34m[\u001b[0m\u001b[0;34m'Nick Szabo'\u001b[0m\u001b[0;34m]\u001b[0m\u001b[0;34m\u001b[0m\u001b[0;34m\u001b[0m\u001b[0m\n\u001b[0;32m----> 3\u001b[0;31m \u001b[0mdf\u001b[0m \u001b[0;34m=\u001b[0m \u001b[0mmodel\u001b[0m\u001b[0;34m.\u001b[0m\u001b[0minternal_stats\u001b[0m\u001b[0;34m(\u001b[0m\u001b[0mwrt_authors\u001b[0m\u001b[0;34m=\u001b[0m\u001b[0mfinalists\u001b[0m\u001b[0;34m,\u001b[0m \u001b[0mLOO\u001b[0m \u001b[0;34m=\u001b[0m \u001b[0;32mFalse\u001b[0m\u001b[0;34m)\u001b[0m\u001b[0;34m\u001b[0m\u001b[0;34m\u001b[0m\u001b[0m\n\u001b[0m",
      "\u001b[0;32m~/Documents/Authorship/AuthAttLib.py\u001b[0m in \u001b[0;36minternal_stats\u001b[0;34m(self, wrt_authors, LOO)\u001b[0m\n\u001b[1;32m    264\u001b[0m                 \u001b[0mlo_docs\u001b[0m \u001b[0;34m=\u001b[0m \u001b[0mmd1\u001b[0m\u001b[0;34m.\u001b[0m\u001b[0mget_document_names\u001b[0m\u001b[0;34m(\u001b[0m\u001b[0;34m)\u001b[0m\u001b[0;34m\u001b[0m\u001b[0;34m\u001b[0m\u001b[0m\n\u001b[1;32m    265\u001b[0m                 \u001b[0;32mfor\u001b[0m \u001b[0mdn\u001b[0m \u001b[0;32min\u001b[0m \u001b[0mlo_docs\u001b[0m\u001b[0;34m:\u001b[0m\u001b[0;34m\u001b[0m\u001b[0;34m\u001b[0m\u001b[0m\n\u001b[0;32m--> 266\u001b[0;31m                     \u001b[0mdtbl\u001b[0m \u001b[0;34m=\u001b[0m \u001b[0mmd1\u001b[0m\u001b[0;34m.\u001b[0m\u001b[0mget_doc_as_table\u001b[0m\u001b[0;34m(\u001b[0m\u001b[0mdn\u001b[0m\u001b[0;34m)\u001b[0m\u001b[0;34m\u001b[0m\u001b[0;34m\u001b[0m\u001b[0m\n\u001b[0m\u001b[1;32m    267\u001b[0m                     \u001b[0;32mif\u001b[0m \u001b[0mauth0\u001b[0m \u001b[0;34m==\u001b[0m \u001b[0mauth1\u001b[0m\u001b[0;34m:\u001b[0m\u001b[0;34m\u001b[0m\u001b[0;34m\u001b[0m\u001b[0m\n\u001b[1;32m    268\u001b[0m                         HC, rank, feat = md0.get_HC_rank_features(\n",
      "\u001b[0;32m~/Documents/Authorship/DocTermTable.py\u001b[0m in \u001b[0;36mget_doc_as_table\u001b[0;34m(self, doc_id)\u001b[0m\n\u001b[1;32m    271\u001b[0m                                  \u001b[0mfeature_names\u001b[0m\u001b[0;34m=\u001b[0m\u001b[0mself\u001b[0m\u001b[0;34m.\u001b[0m\u001b[0m_feature_names\u001b[0m\u001b[0;34m,\u001b[0m\u001b[0;34m\u001b[0m\u001b[0;34m\u001b[0m\u001b[0m\n\u001b[1;32m    272\u001b[0m                                  \u001b[0mdocument_names\u001b[0m\u001b[0;34m=\u001b[0m\u001b[0;34m[\u001b[0m\u001b[0mdoc_id\u001b[0m\u001b[0;34m]\u001b[0m\u001b[0;34m,\u001b[0m\u001b[0;34m\u001b[0m\u001b[0;34m\u001b[0m\u001b[0m\n\u001b[0;32m--> 273\u001b[0;31m                                  stbl=self._stbl)\n\u001b[0m\u001b[1;32m    274\u001b[0m         \u001b[0;32mreturn\u001b[0m \u001b[0mnew_table\u001b[0m\u001b[0;34m\u001b[0m\u001b[0;34m\u001b[0m\u001b[0m\n\u001b[1;32m    275\u001b[0m \u001b[0;34m\u001b[0m\u001b[0m\n",
      "\u001b[0;32m~/Documents/Authorship/DocTermTable.py\u001b[0m in \u001b[0;36m__init__\u001b[0;34m(self, dtm, feature_names, document_names, stbl)\u001b[0m\n\u001b[1;32m     62\u001b[0m         \u001b[0;32mif\u001b[0m \u001b[0mdtm\u001b[0m\u001b[0;34m.\u001b[0m\u001b[0msum\u001b[0m\u001b[0;34m(\u001b[0m\u001b[0;34m)\u001b[0m \u001b[0;34m==\u001b[0m \u001b[0;36m0\u001b[0m\u001b[0;34m:\u001b[0m\u001b[0;34m\u001b[0m\u001b[0;34m\u001b[0m\u001b[0m\n\u001b[1;32m     63\u001b[0m             raise ValueError(\n\u001b[0;32m---> 64\u001b[0;31m                 \u001b[0;34m\"seems like all counts are zero. \"\u001b[0m\u001b[0;31m\\\u001b[0m\u001b[0;34m\u001b[0m\u001b[0;34m\u001b[0m\u001b[0m\n\u001b[0m\u001b[1;32m     65\u001b[0m                 \u001b[0;34m+\u001b[0m\u001b[0;34m\"Did you pass the wrong data format?\"\u001b[0m\u001b[0;34m\u001b[0m\u001b[0;34m\u001b[0m\u001b[0m\n\u001b[1;32m     66\u001b[0m             )\n",
      "\u001b[0;31mValueError\u001b[0m: seems like all counts are zero. Did you pass the wrong data format?"
     ]
    }
   ],
   "source": [
    "#scores wrt Satoshi\n",
    "finalists = ('Craig Wright', 'Nick Szabo', 'Hal Finney')\n",
    "df = model.internal_stats(wrt_authors=finalists, LOO = False)"
   ]
  },
  {
   "cell_type": "code",
   "execution_count": null,
   "metadata": {},
   "outputs": [],
   "source": [
    "wrt_authors = ['Craig Wright', 'Nick Szabo']\n",
    "p = plot_author_pair(df[df.author.isin(wrt_authors + ['Satoshi'])], value = 'HC',  wrt_authors = wrt_authors)\n",
    "print(p)\n",
    "p = plot_LDA(df[df.author.isin(wrt_authors + ['Satoshi'])], value = 'HC',  wrt_authors = wrt_authors)\n",
    "print(p)"
   ]
  },
  {
   "cell_type": "code",
   "execution_count": null,
   "metadata": {},
   "outputs": [],
   "source": [
    "wrt_authors = ['Craig Wright', 'Hal Finney']\n",
    "p = plot_author_pair(df[df.author.isin(wrt_authors + ['Satoshi'])], value = 'HC',  wrt_authors = wrt_authors)\n",
    "print(p)\n",
    "p = plot_LDA(df[df.author.isin(wrt_authors + ['Satoshi'])], value = 'HC',  wrt_authors = wrt_authors)\n",
    "print(p)"
   ]
  },
  {
   "cell_type": "code",
   "execution_count": 20,
   "metadata": {},
   "outputs": [
    {
     "ename": "NameError",
     "evalue": "name 'df' is not defined",
     "output_type": "error",
     "traceback": [
      "\u001b[0;31m---------------------------------------------------------------------------\u001b[0m",
      "\u001b[0;31mNameError\u001b[0m                                 Traceback (most recent call last)",
      "\u001b[0;32m<ipython-input-20-7e68b109f07c>\u001b[0m in \u001b[0;36m<module>\u001b[0;34m\u001b[0m\n\u001b[1;32m      1\u001b[0m \u001b[0mwrt_authors\u001b[0m \u001b[0;34m=\u001b[0m \u001b[0;34m[\u001b[0m\u001b[0;34m'Hal Finney'\u001b[0m\u001b[0;34m,\u001b[0m \u001b[0;34m'Nick Szabo'\u001b[0m\u001b[0;34m]\u001b[0m\u001b[0;34m\u001b[0m\u001b[0;34m\u001b[0m\u001b[0m\n\u001b[0;32m----> 2\u001b[0;31m \u001b[0mp\u001b[0m \u001b[0;34m=\u001b[0m \u001b[0mplot_author_pair\u001b[0m\u001b[0;34m(\u001b[0m\u001b[0mdf\u001b[0m\u001b[0;34m[\u001b[0m\u001b[0mdf\u001b[0m\u001b[0;34m.\u001b[0m\u001b[0mauthor\u001b[0m\u001b[0;34m.\u001b[0m\u001b[0misin\u001b[0m\u001b[0;34m(\u001b[0m\u001b[0mwrt_authors\u001b[0m \u001b[0;34m+\u001b[0m \u001b[0;34m[\u001b[0m\u001b[0;34m'Satoshi'\u001b[0m\u001b[0;34m]\u001b[0m\u001b[0;34m)\u001b[0m\u001b[0;34m]\u001b[0m\u001b[0;34m,\u001b[0m \u001b[0mvalue\u001b[0m \u001b[0;34m=\u001b[0m \u001b[0;34m'HC'\u001b[0m\u001b[0;34m,\u001b[0m  \u001b[0mwrt_authors\u001b[0m \u001b[0;34m=\u001b[0m \u001b[0mwrt_authors\u001b[0m\u001b[0;34m)\u001b[0m\u001b[0;34m\u001b[0m\u001b[0;34m\u001b[0m\u001b[0m\n\u001b[0m\u001b[1;32m      3\u001b[0m \u001b[0mprint\u001b[0m\u001b[0;34m(\u001b[0m\u001b[0mp\u001b[0m\u001b[0;34m)\u001b[0m\u001b[0;34m\u001b[0m\u001b[0;34m\u001b[0m\u001b[0m\n\u001b[1;32m      4\u001b[0m \u001b[0;34m\u001b[0m\u001b[0m\n\u001b[1;32m      5\u001b[0m \u001b[0mp\u001b[0m \u001b[0;34m=\u001b[0m \u001b[0mplot_LDA\u001b[0m\u001b[0;34m(\u001b[0m\u001b[0mdf\u001b[0m\u001b[0;34m[\u001b[0m\u001b[0mdf\u001b[0m\u001b[0;34m.\u001b[0m\u001b[0mauthor\u001b[0m\u001b[0;34m.\u001b[0m\u001b[0misin\u001b[0m\u001b[0;34m(\u001b[0m\u001b[0mwrt_authors\u001b[0m \u001b[0;34m+\u001b[0m \u001b[0;34m[\u001b[0m\u001b[0;34m'Satoshi'\u001b[0m\u001b[0;34m]\u001b[0m\u001b[0;34m)\u001b[0m\u001b[0;34m]\u001b[0m\u001b[0;34m,\u001b[0m \u001b[0mvalue\u001b[0m \u001b[0;34m=\u001b[0m \u001b[0;34m'HC'\u001b[0m\u001b[0;34m,\u001b[0m  \u001b[0mwrt_authors\u001b[0m \u001b[0;34m=\u001b[0m \u001b[0mwrt_authors\u001b[0m\u001b[0;34m)\u001b[0m\u001b[0;34m\u001b[0m\u001b[0;34m\u001b[0m\u001b[0m\n",
      "\u001b[0;31mNameError\u001b[0m: name 'df' is not defined"
     ]
    }
   ],
   "source": [
    "wrt_authors = ['Hal Finney', 'Nick Szabo']\n",
    "p = plot_author_pair(df[df.author.isin(wrt_authors + ['Satoshi'])], value = 'HC',  wrt_authors = wrt_authors)\n",
    "print(p)\n",
    "\n",
    "p = plot_LDA(df[df.author.isin(wrt_authors + ['Satoshi'])], value = 'HC',  wrt_authors = wrt_authors)\n",
    "print(p)"
   ]
  },
  {
   "cell_type": "code",
   "execution_count": 116,
   "metadata": {},
   "outputs": [
    {
     "name": "stderr",
     "output_type": "stream",
     "text": [
      "/usr/local/lib/python3.7/site-packages/ipykernel_launcher.py:4: UserWarning: Boolean Series key will be reindexed to match DataFrame index.\n",
      "  after removing the cwd from sys.path.\n"
     ]
    },
    {
     "name": "stdout",
     "output_type": "stream",
     "text": [
      "Found 6 author-pairs\n",
      "MultiBinaryAuthorModel: Creating model for Hal Finney vs Nick Szabo...\n",
      "\t Creating author-model for Hal Finney using 1000 features...\n",
      "\t\tfound 13 documents and 2001 relevant tokens.\n",
      "\t Creating author-model for Nick Szabo using 1000 features...\n",
      "\t\tfound 28 documents and 17716 relevant tokens.\n",
      "Changing vocabulary for Hal Finney. Found 640 relevant tokens.\n",
      "Changing vocabulary for Nick Szabo. Found 3660 relevant tokens.\n",
      "Reduced to 78 features...\n",
      "MultiBinaryAuthorModel: Creating model for Craig Wright vs Hal Finney...\n",
      "\t Creating author-model for Hal Finney using 1000 features...\n",
      "\t\tfound 13 documents and 2001 relevant tokens.\n",
      "\t Creating author-model for Craig Wright using 1000 features...\n",
      "\t\tfound 23 documents and 11739 relevant tokens.\n",
      "Changing vocabulary for Hal Finney. Found 457 relevant tokens.\n",
      "Changing vocabulary for Craig Wright. Found 1637 relevant tokens.\n",
      "Reduced to 74 features...\n",
      "MultiBinaryAuthorModel: Creating model for Craig Wright vs Nick Szabo...\n",
      "\t Creating author-model for Nick Szabo using 1000 features...\n",
      "\t\tfound 28 documents and 17716 relevant tokens.\n",
      "\t Creating author-model for Craig Wright using 1000 features...\n",
      "\t\tfound 23 documents and 11739 relevant tokens.\n",
      "Changing vocabulary for Nick Szabo. Found 9205 relevant tokens.\n",
      "Changing vocabulary for Craig Wright. Found 6438 relevant tokens.\n",
      "Reduced to 357 features...\n",
      "MultiBinaryAuthorModel: Creating model for Craig Wright vs David Kleiman...\n",
      "\t Creating author-model for Craig Wright using 1000 features...\n",
      "\t\tfound 23 documents and 11739 relevant tokens.\n",
      "\t Creating author-model for David Kleiman using 1000 features...\n",
      "\t\tfound 1 documents and 69778 relevant tokens.\n",
      "Changing vocabulary for Craig Wright. Found 6650 relevant tokens.\n",
      "Changing vocabulary for David Kleiman. Found 39026 relevant tokens.\n",
      "Reduced to 423 features...\n",
      "MultiBinaryAuthorModel: Creating model for David Kleiman vs Hal Finney...\n",
      "\t Creating author-model for Hal Finney using 1000 features...\n",
      "\t\tfound 13 documents and 2001 relevant tokens.\n",
      "\t Creating author-model for David Kleiman using 1000 features...\n",
      "\t\tfound 1 documents and 69778 relevant tokens.\n",
      "Changing vocabulary for Hal Finney. Found 980 relevant tokens.\n",
      "Changing vocabulary for David Kleiman. Found 20046 relevant tokens.\n",
      "Reduced to 169 features...\n",
      "MultiBinaryAuthorModel: Creating model for David Kleiman vs Nick Szabo...\n",
      "\t Creating author-model for Nick Szabo using 1000 features...\n",
      "\t\tfound 28 documents and 17716 relevant tokens.\n",
      "\t Creating author-model for David Kleiman using 1000 features...\n",
      "\t\tfound 1 documents and 69778 relevant tokens.\n",
      "Changing vocabulary for Nick Szabo. Found 10522 relevant tokens.\n",
      "Changing vocabulary for David Kleiman. Found 41028 relevant tokens.\n",
      "Reduced to 424 features...\n"
     ]
    }
   ],
   "source": [
    "# TODO: only use list of finalists\n",
    "finalists = ('Nick Szabo', 'Hal Finney', 'Craig Wright', 'David Kleiman')\n",
    "ds = data_proc\n",
    "ds = ds[~ds['type'].isin(['technical','email'])][ds.author.isin(finalists)]\n",
    "#ds = ds[~((ds.author == 'Satoshi') & (ds.type.isin(['emails', 'technical (forum)'])))]\n",
    "\n",
    "model_binary = AuthorshipAttributionMultiBinary(ds,\n",
    "                                vocab = model._vocab,\n",
    "                                ngram_range=(2,3),\n",
    "                                reduce_features=True\n",
    "                                        )"
   ]
  },
  {
   "cell_type": "code",
   "execution_count": 104,
   "metadata": {},
   "outputs": [],
   "source": [
    "btc_paper = data_proc[data_proc.doc_id == 'Bitcoin_whitepaper.txt']"
   ]
  },
  {
   "cell_type": "code",
   "execution_count": 121,
   "metadata": {},
   "outputs": [
    {
     "name": "stderr",
     "output_type": "stream",
     "text": [
      "\n",
      "  0%|          | 0/2 [00:00<?, ?it/s]\u001b[A"
     ]
    },
    {
     "ename": "ValueError",
     "evalue": "seems like all counts are zero. Did you pass the wrong data format?",
     "output_type": "error",
     "traceback": [
      "\u001b[0;31m---------------------------------------------------------------------------\u001b[0m",
      "\u001b[0;31mValueError\u001b[0m                                Traceback (most recent call last)",
      "\u001b[0;32m<ipython-input-121-53157ef887f7>\u001b[0m in \u001b[0;36m<module>\u001b[0;34m\u001b[0m\n\u001b[1;32m      2\u001b[0m \u001b[0mpair\u001b[0m \u001b[0;34m=\u001b[0m \u001b[0;34m(\u001b[0m\u001b[0;34m'Craig Wright'\u001b[0m\u001b[0;34m,\u001b[0m\u001b[0;34m'Hal Finney'\u001b[0m\u001b[0;34m)\u001b[0m\u001b[0;34m\u001b[0m\u001b[0;34m\u001b[0m\u001b[0m\n\u001b[1;32m      3\u001b[0m \u001b[0mmd\u001b[0m \u001b[0;34m=\u001b[0m \u001b[0mmodel_binary\u001b[0m\u001b[0;34m.\u001b[0m\u001b[0m_AuthorPairModel\u001b[0m\u001b[0;34m[\u001b[0m\u001b[0mpair\u001b[0m\u001b[0;34m]\u001b[0m\u001b[0;34m\u001b[0m\u001b[0;34m\u001b[0m\u001b[0m\n\u001b[0;32m----> 4\u001b[0;31m \u001b[0mdf\u001b[0m \u001b[0;34m=\u001b[0m \u001b[0mmd\u001b[0m\u001b[0;34m.\u001b[0m\u001b[0minternal_stats\u001b[0m\u001b[0;34m(\u001b[0m\u001b[0;34m)\u001b[0m\u001b[0;34m\u001b[0m\u001b[0;34m\u001b[0m\u001b[0m\n\u001b[0m\u001b[1;32m      5\u001b[0m \u001b[0mdf1\u001b[0m \u001b[0;34m=\u001b[0m \u001b[0mmd\u001b[0m\u001b[0;34m.\u001b[0m\u001b[0mpredict_stats\u001b[0m\u001b[0;34m(\u001b[0m\u001b[0mbtc_paper\u001b[0m\u001b[0;34m.\u001b[0m\u001b[0mtext\u001b[0m\u001b[0;34m.\u001b[0m\u001b[0mvalues\u001b[0m\u001b[0;34m[\u001b[0m\u001b[0;36m0\u001b[0m\u001b[0;34m]\u001b[0m\u001b[0;34m)\u001b[0m\u001b[0;34m\u001b[0m\u001b[0;34m\u001b[0m\u001b[0m\n\u001b[1;32m      6\u001b[0m \u001b[0mdf1\u001b[0m\u001b[0;34m.\u001b[0m\u001b[0mloc\u001b[0m\u001b[0;34m[\u001b[0m\u001b[0;34m:\u001b[0m\u001b[0;34m,\u001b[0m\u001b[0;34m'doc_id'\u001b[0m\u001b[0;34m]\u001b[0m \u001b[0;34m=\u001b[0m \u001b[0;34m'Bitcoin_whitepaper.txt'\u001b[0m\u001b[0;34m\u001b[0m\u001b[0;34m\u001b[0m\u001b[0m\n",
      "\u001b[0;32m~/Documents/Authorship/AuthAttLib.py\u001b[0m in \u001b[0;36minternal_stats\u001b[0;34m(self, wrt_authors, LOO)\u001b[0m\n\u001b[1;32m    264\u001b[0m                 \u001b[0mlo_docs\u001b[0m \u001b[0;34m=\u001b[0m \u001b[0mmd1\u001b[0m\u001b[0;34m.\u001b[0m\u001b[0mget_document_names\u001b[0m\u001b[0;34m(\u001b[0m\u001b[0;34m)\u001b[0m\u001b[0;34m\u001b[0m\u001b[0;34m\u001b[0m\u001b[0m\n\u001b[1;32m    265\u001b[0m                 \u001b[0;32mfor\u001b[0m \u001b[0mdn\u001b[0m \u001b[0;32min\u001b[0m \u001b[0mlo_docs\u001b[0m\u001b[0;34m:\u001b[0m\u001b[0;34m\u001b[0m\u001b[0;34m\u001b[0m\u001b[0m\n\u001b[0;32m--> 266\u001b[0;31m                     \u001b[0mdtbl\u001b[0m \u001b[0;34m=\u001b[0m \u001b[0mmd1\u001b[0m\u001b[0;34m.\u001b[0m\u001b[0mget_doc_as_table\u001b[0m\u001b[0;34m(\u001b[0m\u001b[0mdn\u001b[0m\u001b[0;34m)\u001b[0m\u001b[0;34m\u001b[0m\u001b[0;34m\u001b[0m\u001b[0m\n\u001b[0m\u001b[1;32m    267\u001b[0m                     \u001b[0;32mif\u001b[0m \u001b[0mauth0\u001b[0m \u001b[0;34m==\u001b[0m \u001b[0mauth1\u001b[0m\u001b[0;34m:\u001b[0m\u001b[0;34m\u001b[0m\u001b[0;34m\u001b[0m\u001b[0m\n\u001b[1;32m    268\u001b[0m                         HC, rank, feat = md0.get_HC_rank_features(\n",
      "\u001b[0;32m~/Documents/Authorship/DocTermTable.py\u001b[0m in \u001b[0;36mget_doc_as_table\u001b[0;34m(self, doc_id)\u001b[0m\n\u001b[1;32m    271\u001b[0m                                  \u001b[0mfeature_names\u001b[0m\u001b[0;34m=\u001b[0m\u001b[0mself\u001b[0m\u001b[0;34m.\u001b[0m\u001b[0m_feature_names\u001b[0m\u001b[0;34m,\u001b[0m\u001b[0;34m\u001b[0m\u001b[0;34m\u001b[0m\u001b[0m\n\u001b[1;32m    272\u001b[0m                                  \u001b[0mdocument_names\u001b[0m\u001b[0;34m=\u001b[0m\u001b[0;34m[\u001b[0m\u001b[0mdoc_id\u001b[0m\u001b[0;34m]\u001b[0m\u001b[0;34m,\u001b[0m\u001b[0;34m\u001b[0m\u001b[0;34m\u001b[0m\u001b[0m\n\u001b[0;32m--> 273\u001b[0;31m                                  stbl=self._stbl)\n\u001b[0m\u001b[1;32m    274\u001b[0m         \u001b[0;32mreturn\u001b[0m \u001b[0mnew_table\u001b[0m\u001b[0;34m\u001b[0m\u001b[0;34m\u001b[0m\u001b[0m\n\u001b[1;32m    275\u001b[0m \u001b[0;34m\u001b[0m\u001b[0m\n",
      "\u001b[0;32m~/Documents/Authorship/DocTermTable.py\u001b[0m in \u001b[0;36m__init__\u001b[0;34m(self, dtm, feature_names, document_names, stbl)\u001b[0m\n\u001b[1;32m     62\u001b[0m         \u001b[0;32mif\u001b[0m \u001b[0mdtm\u001b[0m\u001b[0;34m.\u001b[0m\u001b[0msum\u001b[0m\u001b[0;34m(\u001b[0m\u001b[0;34m)\u001b[0m \u001b[0;34m==\u001b[0m \u001b[0;36m0\u001b[0m\u001b[0;34m:\u001b[0m\u001b[0;34m\u001b[0m\u001b[0;34m\u001b[0m\u001b[0m\n\u001b[1;32m     63\u001b[0m             raise ValueError(\n\u001b[0;32m---> 64\u001b[0;31m                 \u001b[0;34m\"seems like all counts are zero. \"\u001b[0m\u001b[0;31m\\\u001b[0m\u001b[0;34m\u001b[0m\u001b[0;34m\u001b[0m\u001b[0m\n\u001b[0m\u001b[1;32m     65\u001b[0m                 \u001b[0;34m+\u001b[0m\u001b[0;34m\"Did you pass the wrong data format?\"\u001b[0m\u001b[0;34m\u001b[0m\u001b[0;34m\u001b[0m\u001b[0m\n\u001b[1;32m     66\u001b[0m             )\n",
      "\u001b[0;31mValueError\u001b[0m: seems like all counts are zero. Did you pass the wrong data format?"
     ]
    }
   ],
   "source": [
    "# illustrate one pair\n",
    "pair = ('Craig Wright','Hal Finney')\n",
    "md = model_binary._AuthorPairModel[pair]\n",
    "df = md.internal_stats()\n",
    "df1 = md.predict_stats(btc_paper.text.values[0])\n",
    "df1.loc[:,'doc_id'] = 'Bitcoin_whitepaper.txt'\n",
    "df1.loc[:,'author'] = 'Satoshi'\n",
    "df_all = df.filter(['HC', 'HC_rank','author', 'chisq', 'chisq_pval', 'doc_id', 'wrt_author']).append(df1)\n"
   ]
  },
  {
   "cell_type": "code",
   "execution_count": 45,
   "metadata": {},
   "outputs": [
    {
     "data": {
      "image/png": "[encoded data removed]",
      "text/plain": [
       "<Figure size 640x480 with 1 Axes>"
      ]
     },
     "metadata": {},
     "output_type": "display_data"
    },
    {
     "name": "stdout",
     "output_type": "stream",
     "text": [
      "<ggplot: (315791238)>\n"
     ]
    },
    {
     "name": "stderr",
     "output_type": "stream",
     "text": [
      "/usr/local/lib/python3.7/site-packages/scipy/stats/_distn_infrastructure.py:874: RuntimeWarning: invalid value encountered in greater_equal\n",
      "  return (self.a <= x) & (x <= self.b)\n",
      "/usr/local/lib/python3.7/site-packages/scipy/stats/_distn_infrastructure.py:874: RuntimeWarning: invalid value encountered in less_equal\n",
      "  return (self.a <= x) & (x <= self.b)\n",
      "/usr/local/lib/python3.7/site-packages/plotnine/layer.py:517: MatplotlibDeprecationWarning: isinstance(..., numbers.Number)\n",
      "  return not cbook.iterable(value) and (cbook.is_numlike(value) or\n",
      "/usr/local/lib/python3.7/site-packages/plotnine/stats/stat.py:310: FutureWarning: Sorting because non-concatenation axis is not aligned. A future version\n",
      "of pandas will change to not sort by default.\n",
      "\n",
      "To accept the future behavior, pass 'sort=False'.\n",
      "\n",
      "To retain the current behavior and silence the warning, pass 'sort=True'.\n",
      "\n",
      "  stats = pd.concat(stats, axis=0, ignore_index=True)\n",
      "/usr/local/lib/python3.7/site-packages/plotnine/layer.py:449: UserWarning: geom_bar : Removed 30 rows containing missing values.\n",
      "  self.data = self.geom.handle_na(self.data)\n",
      "/usr/local/lib/python3.7/site-packages/plotnine/geoms/geom_path.py:74: UserWarning: geom_path: Removed 2 rows containing missing values.\n",
      "  warn(msg.format(n1-n2))\n",
      "/usr/local/lib/python3.7/site-packages/plotnine/geoms/geom_path.py:74: UserWarning: geom_path: Removed 2 rows containing missing values.\n",
      "  warn(msg.format(n1-n2))\n"
     ]
    },
    {
     "data": {
      "image/png": "[encoded data removed]",
      "text/plain": [
       "<Figure size 640x480 with 1 Axes>"
      ]
     },
     "metadata": {},
     "output_type": "display_data"
    },
    {
     "name": "stdout",
     "output_type": "stream",
     "text": [
      "<ggplot: (-9223372036549233639)>\n"
     ]
    }
   ],
   "source": [
    "p = plot_author_pair(df_all[df_all.author.isin(list(pair) + ['Satoshi'])], value = 'HC',  wrt_authors = pair)\n",
    "print(p)\n",
    "\n",
    "p = plot_LDA(df_all[df_all.author.isin(list(pair) + ['Satoshi'])], value = 'HC',  wrt_authors = pair)\n",
    "print(p)"
   ]
  },
  {
   "cell_type": "code",
   "execution_count": 46,
   "metadata": {},
   "outputs": [
    {
     "name": "stderr",
     "output_type": "stream",
     "text": [
      "/usr/local/lib/python3.7/site-packages/plotnine/layer.py:449: UserWarning: geom_point : Removed 1 rows containing missing values.\n",
      "  self.data = self.geom.handle_na(self.data)\n"
     ]
    },
    {
     "data": {
      "image/png": "[encoded data removed]",
      "text/plain": [
       "<Figure size 640x480 with 1 Axes>"
      ]
     },
     "metadata": {},
     "output_type": "display_data"
    },
    {
     "name": "stdout",
     "output_type": "stream",
     "text": [
      "<ggplot: (314942619)>\n"
     ]
    },
    {
     "ename": "ValueError",
     "evalue": "Input contains NaN, infinity or a value too large for dtype('float64').",
     "output_type": "error",
     "traceback": [
      "\u001b[0;31m---------------------------------------------------------------------------\u001b[0m",
      "\u001b[0;31mValueError\u001b[0m                                Traceback (most recent call last)",
      "\u001b[0;32m<ipython-input-46-52863af9dc32>\u001b[0m in \u001b[0;36m<module>\u001b[0;34m\u001b[0m\n\u001b[1;32m      2\u001b[0m \u001b[0mprint\u001b[0m\u001b[0;34m(\u001b[0m\u001b[0mp\u001b[0m\u001b[0;34m)\u001b[0m\u001b[0;34m\u001b[0m\u001b[0;34m\u001b[0m\u001b[0m\n\u001b[1;32m      3\u001b[0m \u001b[0;34m\u001b[0m\u001b[0m\n\u001b[0;32m----> 4\u001b[0;31m \u001b[0mp\u001b[0m \u001b[0;34m=\u001b[0m \u001b[0mplot_LDA\u001b[0m\u001b[0;34m(\u001b[0m\u001b[0mdf_all\u001b[0m\u001b[0;34m[\u001b[0m\u001b[0mdf_all\u001b[0m\u001b[0;34m.\u001b[0m\u001b[0mauthor\u001b[0m\u001b[0;34m.\u001b[0m\u001b[0misin\u001b[0m\u001b[0;34m(\u001b[0m\u001b[0mlist\u001b[0m\u001b[0;34m(\u001b[0m\u001b[0mpair\u001b[0m\u001b[0;34m)\u001b[0m \u001b[0;34m+\u001b[0m \u001b[0;34m[\u001b[0m\u001b[0;34m'Satoshi'\u001b[0m\u001b[0;34m]\u001b[0m\u001b[0;34m)\u001b[0m\u001b[0;34m]\u001b[0m\u001b[0;34m,\u001b[0m \u001b[0mvalue\u001b[0m \u001b[0;34m=\u001b[0m \u001b[0;34m'chisq'\u001b[0m\u001b[0;34m,\u001b[0m  \u001b[0mwrt_authors\u001b[0m \u001b[0;34m=\u001b[0m \u001b[0mpair\u001b[0m\u001b[0;34m)\u001b[0m\u001b[0;34m\u001b[0m\u001b[0;34m\u001b[0m\u001b[0m\n\u001b[0m\u001b[1;32m      5\u001b[0m \u001b[0mprint\u001b[0m\u001b[0;34m(\u001b[0m\u001b[0mp\u001b[0m\u001b[0;34m)\u001b[0m\u001b[0;34m\u001b[0m\u001b[0;34m\u001b[0m\u001b[0m\n",
      "\u001b[0;32m~/Documents/Authorship/visualize_HC_scores.py\u001b[0m in \u001b[0;36mplot_LDA\u001b[0;34m(df, value, wrt_authors, sym)\u001b[0m\n\u001b[1;32m    145\u001b[0m         \u001b[0my\u001b[0m \u001b[0;34m=\u001b[0m \u001b[0mnp\u001b[0m\u001b[0;34m.\u001b[0m\u001b[0marray\u001b[0m\u001b[0;34m(\u001b[0m\u001b[0mdf_red\u001b[0m\u001b[0;34m.\u001b[0m\u001b[0mauthor\u001b[0m\u001b[0;34m)\u001b[0m\u001b[0;34m\u001b[0m\u001b[0;34m\u001b[0m\u001b[0m\n\u001b[1;32m    146\u001b[0m         \u001b[0mclf\u001b[0m \u001b[0;34m=\u001b[0m \u001b[0mLinearDiscriminantAnalysis\u001b[0m\u001b[0;34m(\u001b[0m\u001b[0;34m)\u001b[0m\u001b[0;34m\u001b[0m\u001b[0;34m\u001b[0m\u001b[0m\n\u001b[0;32m--> 147\u001b[0;31m         \u001b[0mclf\u001b[0m\u001b[0;34m.\u001b[0m\u001b[0mfit\u001b[0m\u001b[0;34m(\u001b[0m\u001b[0mX\u001b[0m\u001b[0;34m,\u001b[0m \u001b[0my\u001b[0m\u001b[0;34m)\u001b[0m\u001b[0;34m\u001b[0m\u001b[0;34m\u001b[0m\u001b[0m\n\u001b[0m\u001b[1;32m    148\u001b[0m         LinearDiscriminantAnalysis(n_components=None, priors=None, shrinkage=None,\n\u001b[1;32m    149\u001b[0m                       solver='lsqr', store_covariance=True, tol=0.0001)\n",
      "\u001b[0;32m/usr/local/lib/python3.7/site-packages/sklearn/discriminant_analysis.py\u001b[0m in \u001b[0;36mfit\u001b[0;34m(self, X, y)\u001b[0m\n\u001b[1;32m    427\u001b[0m             \u001b[0mTarget\u001b[0m \u001b[0mvalues\u001b[0m\u001b[0;34m.\u001b[0m\u001b[0;34m\u001b[0m\u001b[0;34m\u001b[0m\u001b[0m\n\u001b[1;32m    428\u001b[0m         \"\"\"\n\u001b[0;32m--> 429\u001b[0;31m         \u001b[0mX\u001b[0m\u001b[0;34m,\u001b[0m \u001b[0my\u001b[0m \u001b[0;34m=\u001b[0m \u001b[0mcheck_X_y\u001b[0m\u001b[0;34m(\u001b[0m\u001b[0mX\u001b[0m\u001b[0;34m,\u001b[0m \u001b[0my\u001b[0m\u001b[0;34m,\u001b[0m \u001b[0mensure_min_samples\u001b[0m\u001b[0;34m=\u001b[0m\u001b[0;36m2\u001b[0m\u001b[0;34m,\u001b[0m \u001b[0mestimator\u001b[0m\u001b[0;34m=\u001b[0m\u001b[0mself\u001b[0m\u001b[0;34m)\u001b[0m\u001b[0;34m\u001b[0m\u001b[0;34m\u001b[0m\u001b[0m\n\u001b[0m\u001b[1;32m    430\u001b[0m         \u001b[0mself\u001b[0m\u001b[0;34m.\u001b[0m\u001b[0mclasses_\u001b[0m \u001b[0;34m=\u001b[0m \u001b[0munique_labels\u001b[0m\u001b[0;34m(\u001b[0m\u001b[0my\u001b[0m\u001b[0;34m)\u001b[0m\u001b[0;34m\u001b[0m\u001b[0;34m\u001b[0m\u001b[0m\n\u001b[1;32m    431\u001b[0m         \u001b[0mn_samples\u001b[0m\u001b[0;34m,\u001b[0m \u001b[0m_\u001b[0m \u001b[0;34m=\u001b[0m \u001b[0mX\u001b[0m\u001b[0;34m.\u001b[0m\u001b[0mshape\u001b[0m\u001b[0;34m\u001b[0m\u001b[0;34m\u001b[0m\u001b[0m\n",
      "\u001b[0;32m/usr/local/lib/python3.7/site-packages/sklearn/utils/validation.py\u001b[0m in \u001b[0;36mcheck_X_y\u001b[0;34m(X, y, accept_sparse, accept_large_sparse, dtype, order, copy, force_all_finite, ensure_2d, allow_nd, multi_output, ensure_min_samples, ensure_min_features, y_numeric, warn_on_dtype, estimator)\u001b[0m\n\u001b[1;32m    754\u001b[0m                     \u001b[0mensure_min_features\u001b[0m\u001b[0;34m=\u001b[0m\u001b[0mensure_min_features\u001b[0m\u001b[0;34m,\u001b[0m\u001b[0;34m\u001b[0m\u001b[0;34m\u001b[0m\u001b[0m\n\u001b[1;32m    755\u001b[0m                     \u001b[0mwarn_on_dtype\u001b[0m\u001b[0;34m=\u001b[0m\u001b[0mwarn_on_dtype\u001b[0m\u001b[0;34m,\u001b[0m\u001b[0;34m\u001b[0m\u001b[0;34m\u001b[0m\u001b[0m\n\u001b[0;32m--> 756\u001b[0;31m                     estimator=estimator)\n\u001b[0m\u001b[1;32m    757\u001b[0m     \u001b[0;32mif\u001b[0m \u001b[0mmulti_output\u001b[0m\u001b[0;34m:\u001b[0m\u001b[0;34m\u001b[0m\u001b[0;34m\u001b[0m\u001b[0m\n\u001b[1;32m    758\u001b[0m         y = check_array(y, 'csr', force_all_finite=True, ensure_2d=False,\n",
      "\u001b[0;32m/usr/local/lib/python3.7/site-packages/sklearn/utils/validation.py\u001b[0m in \u001b[0;36mcheck_array\u001b[0;34m(array, accept_sparse, accept_large_sparse, dtype, order, copy, force_all_finite, ensure_2d, allow_nd, ensure_min_samples, ensure_min_features, warn_on_dtype, estimator)\u001b[0m\n\u001b[1;32m    571\u001b[0m         \u001b[0;32mif\u001b[0m \u001b[0mforce_all_finite\u001b[0m\u001b[0;34m:\u001b[0m\u001b[0;34m\u001b[0m\u001b[0;34m\u001b[0m\u001b[0m\n\u001b[1;32m    572\u001b[0m             _assert_all_finite(array,\n\u001b[0;32m--> 573\u001b[0;31m                                allow_nan=force_all_finite == 'allow-nan')\n\u001b[0m\u001b[1;32m    574\u001b[0m \u001b[0;34m\u001b[0m\u001b[0m\n\u001b[1;32m    575\u001b[0m     \u001b[0mshape_repr\u001b[0m \u001b[0;34m=\u001b[0m \u001b[0m_shape_repr\u001b[0m\u001b[0;34m(\u001b[0m\u001b[0marray\u001b[0m\u001b[0;34m.\u001b[0m\u001b[0mshape\u001b[0m\u001b[0;34m)\u001b[0m\u001b[0;34m\u001b[0m\u001b[0;34m\u001b[0m\u001b[0m\n",
      "\u001b[0;32m/usr/local/lib/python3.7/site-packages/sklearn/utils/validation.py\u001b[0m in \u001b[0;36m_assert_all_finite\u001b[0;34m(X, allow_nan)\u001b[0m\n\u001b[1;32m     54\u001b[0m                 not allow_nan and not np.isfinite(X).all()):\n\u001b[1;32m     55\u001b[0m             \u001b[0mtype_err\u001b[0m \u001b[0;34m=\u001b[0m \u001b[0;34m'infinity'\u001b[0m \u001b[0;32mif\u001b[0m \u001b[0mallow_nan\u001b[0m \u001b[0;32melse\u001b[0m \u001b[0;34m'NaN, infinity'\u001b[0m\u001b[0;34m\u001b[0m\u001b[0;34m\u001b[0m\u001b[0m\n\u001b[0;32m---> 56\u001b[0;31m             \u001b[0;32mraise\u001b[0m \u001b[0mValueError\u001b[0m\u001b[0;34m(\u001b[0m\u001b[0mmsg_err\u001b[0m\u001b[0;34m.\u001b[0m\u001b[0mformat\u001b[0m\u001b[0;34m(\u001b[0m\u001b[0mtype_err\u001b[0m\u001b[0;34m,\u001b[0m \u001b[0mX\u001b[0m\u001b[0;34m.\u001b[0m\u001b[0mdtype\u001b[0m\u001b[0;34m)\u001b[0m\u001b[0;34m)\u001b[0m\u001b[0;34m\u001b[0m\u001b[0;34m\u001b[0m\u001b[0m\n\u001b[0m\u001b[1;32m     57\u001b[0m \u001b[0;34m\u001b[0m\u001b[0m\n\u001b[1;32m     58\u001b[0m \u001b[0;34m\u001b[0m\u001b[0m\n",
      "\u001b[0;31mValueError\u001b[0m: Input contains NaN, infinity or a value too large for dtype('float64')."
     ]
    }
   ],
   "source": [
    "p = plot_author_pair(df_all[df_all.author.isin(list(pair) + ['Satoshi'])], value = 'chisq',  wrt_authors = pair)\n",
    "print(p)\n",
    "\n",
    "p = plot_LDA(df_all[df_all.author.isin(list(pair) + ['Satoshi'])], value = 'chisq',  wrt_authors = pair)\n",
    "print(p)"
   ]
  },
  {
   "cell_type": "code",
   "execution_count": null,
   "metadata": {},
   "outputs": [],
   "source": []
  }
 ],
 "metadata": {
  "kernelspec": {
   "display_name": "Python 3",
   "language": "python",
   "name": "python3"
  },
  "language_info": {
   "codemirror_mode": {
    "name": "ipython",
    "version": 3
   },
   "file_extension": ".py",
   "mimetype": "text/x-python",
   "name": "python",
   "nbconvert_exporter": "python",
   "pygments_lexer": "ipython3",
   "version": "3.7.3"
  }
 },
 "nbformat": 4,
 "nbformat_minor": 2
}
